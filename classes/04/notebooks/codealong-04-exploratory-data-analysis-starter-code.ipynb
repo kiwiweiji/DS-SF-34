{
 "cells": [
  {
   "cell_type": "markdown",
   "metadata": {},
   "source": [
    "# DS-SF-34 | 04 | Exploratory Data Analysis | Codealong | Starter Code"
   ]
  },
  {
   "cell_type": "code",
   "execution_count": 1,
   "metadata": {
    "collapsed": true
   },
   "outputs": [],
   "source": [
    "import os\n",
    "\n",
    "import math\n",
    "\n",
    "import numpy as np\n",
    "import pandas as pd\n",
    "pd.set_option('display.max_rows', 20)\n",
    "pd.set_option('display.notebook_repr_html', True)\n",
    "pd.set_option('display.max_columns', 10)\n",
    "\n",
    "import matplotlib.pyplot as plt\n",
    "%matplotlib inline\n",
    "plt.style.use('ggplot')"
   ]
  },
  {
   "cell_type": "markdown",
   "metadata": {},
   "source": [
    "## Part A | Activity | The _pandas_ Library"
   ]
  },
  {
   "cell_type": "code",
   "execution_count": 2,
   "metadata": {
    "collapsed": true
   },
   "outputs": [],
   "source": [
    "df = pd.DataFrame({'name': ['Alice', 'Bob', 'Carol', 'Dave', 'Eve', 'Frank'],\n",
    "    'gender': ['Female', 'Male', 'Female', 'Male', 'Female', 'Male'],\n",
    "    'age': [24, 34, 44, 41, 52, 43],\n",
    "    'marital_status': [0, 2, 1, 2, 0, 1]}).\\\n",
    "        set_index('name')"
   ]
  },
  {
   "cell_type": "code",
   "execution_count": 3,
   "metadata": {},
   "outputs": [
    {
     "data": {
      "text/html": [
       "<div>\n",
       "<table border=\"1\" class=\"dataframe\">\n",
       "  <thead>\n",
       "    <tr style=\"text-align: right;\">\n",
       "      <th></th>\n",
       "      <th>age</th>\n",
       "      <th>gender</th>\n",
       "      <th>marital_status</th>\n",
       "    </tr>\n",
       "    <tr>\n",
       "      <th>name</th>\n",
       "      <th></th>\n",
       "      <th></th>\n",
       "      <th></th>\n",
       "    </tr>\n",
       "  </thead>\n",
       "  <tbody>\n",
       "    <tr>\n",
       "      <th>Alice</th>\n",
       "      <td>24</td>\n",
       "      <td>Female</td>\n",
       "      <td>0</td>\n",
       "    </tr>\n",
       "    <tr>\n",
       "      <th>Bob</th>\n",
       "      <td>34</td>\n",
       "      <td>Male</td>\n",
       "      <td>2</td>\n",
       "    </tr>\n",
       "    <tr>\n",
       "      <th>Carol</th>\n",
       "      <td>44</td>\n",
       "      <td>Female</td>\n",
       "      <td>1</td>\n",
       "    </tr>\n",
       "    <tr>\n",
       "      <th>Dave</th>\n",
       "      <td>41</td>\n",
       "      <td>Male</td>\n",
       "      <td>2</td>\n",
       "    </tr>\n",
       "    <tr>\n",
       "      <th>Eve</th>\n",
       "      <td>52</td>\n",
       "      <td>Female</td>\n",
       "      <td>0</td>\n",
       "    </tr>\n",
       "    <tr>\n",
       "      <th>Frank</th>\n",
       "      <td>43</td>\n",
       "      <td>Male</td>\n",
       "      <td>1</td>\n",
       "    </tr>\n",
       "  </tbody>\n",
       "</table>\n",
       "</div>"
      ],
      "text/plain": [
       "       age  gender  marital_status\n",
       "name                              \n",
       "Alice   24  Female               0\n",
       "Bob     34    Male               2\n",
       "Carol   44  Female               1\n",
       "Dave    41    Male               2\n",
       "Eve     52  Female               0\n",
       "Frank   43    Male               1"
      ]
     },
     "execution_count": 3,
     "metadata": {},
     "output_type": "execute_result"
    }
   ],
   "source": [
    "df"
   ]
  },
  {
   "cell_type": "markdown",
   "metadata": {},
   "source": [
    "> ### Question 1.  Subset the dataframe on the age and gender columns"
   ]
  },
  {
   "cell_type": "code",
   "execution_count": 11,
   "metadata": {},
   "outputs": [
    {
     "data": {
      "text/html": [
       "<div>\n",
       "<table border=\"1\" class=\"dataframe\">\n",
       "  <thead>\n",
       "    <tr style=\"text-align: right;\">\n",
       "      <th></th>\n",
       "      <th>age</th>\n",
       "      <th>gender</th>\n",
       "    </tr>\n",
       "    <tr>\n",
       "      <th>name</th>\n",
       "      <th></th>\n",
       "      <th></th>\n",
       "    </tr>\n",
       "  </thead>\n",
       "  <tbody>\n",
       "    <tr>\n",
       "      <th>Alice</th>\n",
       "      <td>24</td>\n",
       "      <td>Female</td>\n",
       "    </tr>\n",
       "    <tr>\n",
       "      <th>Bob</th>\n",
       "      <td>34</td>\n",
       "      <td>Male</td>\n",
       "    </tr>\n",
       "    <tr>\n",
       "      <th>Carol</th>\n",
       "      <td>44</td>\n",
       "      <td>Female</td>\n",
       "    </tr>\n",
       "    <tr>\n",
       "      <th>Dave</th>\n",
       "      <td>41</td>\n",
       "      <td>Male</td>\n",
       "    </tr>\n",
       "    <tr>\n",
       "      <th>Eve</th>\n",
       "      <td>52</td>\n",
       "      <td>Female</td>\n",
       "    </tr>\n",
       "    <tr>\n",
       "      <th>Frank</th>\n",
       "      <td>43</td>\n",
       "      <td>Male</td>\n",
       "    </tr>\n",
       "  </tbody>\n",
       "</table>\n",
       "</div>"
      ],
      "text/plain": [
       "       age  gender\n",
       "name              \n",
       "Alice   24  Female\n",
       "Bob     34    Male\n",
       "Carol   44  Female\n",
       "Dave    41    Male\n",
       "Eve     52  Female\n",
       "Frank   43    Male"
      ]
     },
     "execution_count": 11,
     "metadata": {},
     "output_type": "execute_result"
    }
   ],
   "source": [
    "# TODO\n",
    "df[[0,1]]"
   ]
  },
  {
   "cell_type": "markdown",
   "metadata": {},
   "source": [
    "> ### Question 2.  Subset the dataframe on the age column alone, first as a `DataFrame`, then as a `Series`"
   ]
  },
  {
   "cell_type": "code",
   "execution_count": 16,
   "metadata": {
    "scrolled": true
   },
   "outputs": [
    {
     "data": {
      "text/html": [
       "<div>\n",
       "<table border=\"1\" class=\"dataframe\">\n",
       "  <thead>\n",
       "    <tr style=\"text-align: right;\">\n",
       "      <th></th>\n",
       "      <th>age</th>\n",
       "    </tr>\n",
       "    <tr>\n",
       "      <th>name</th>\n",
       "      <th></th>\n",
       "    </tr>\n",
       "  </thead>\n",
       "  <tbody>\n",
       "    <tr>\n",
       "      <th>Alice</th>\n",
       "      <td>24</td>\n",
       "    </tr>\n",
       "    <tr>\n",
       "      <th>Bob</th>\n",
       "      <td>34</td>\n",
       "    </tr>\n",
       "    <tr>\n",
       "      <th>Carol</th>\n",
       "      <td>44</td>\n",
       "    </tr>\n",
       "    <tr>\n",
       "      <th>Dave</th>\n",
       "      <td>41</td>\n",
       "    </tr>\n",
       "    <tr>\n",
       "      <th>Eve</th>\n",
       "      <td>52</td>\n",
       "    </tr>\n",
       "    <tr>\n",
       "      <th>Frank</th>\n",
       "      <td>43</td>\n",
       "    </tr>\n",
       "  </tbody>\n",
       "</table>\n",
       "</div>"
      ],
      "text/plain": [
       "       age\n",
       "name      \n",
       "Alice   24\n",
       "Bob     34\n",
       "Carol   44\n",
       "Dave    41\n",
       "Eve     52\n",
       "Frank   43"
      ]
     },
     "execution_count": 16,
     "metadata": {},
     "output_type": "execute_result"
    }
   ],
   "source": [
    "# TODO (DataFrame)\n",
    "ageDF = df[['age']]\n",
    "ageDF\n"
   ]
  },
  {
   "cell_type": "code",
   "execution_count": 22,
   "metadata": {},
   "outputs": [
    {
     "data": {
      "text/plain": [
       "pandas.core.series.Series"
      ]
     },
     "execution_count": 22,
     "metadata": {},
     "output_type": "execute_result"
    }
   ],
   "source": [
    "# TODO (Series)\n",
    "ageSE = df['age']\n",
    "ageSE"
   ]
  },
  {
   "cell_type": "markdown",
   "metadata": {},
   "source": [
    "> ### Question 3.  Subset the dataframe on the rows Bob and Carol"
   ]
  },
  {
   "cell_type": "code",
   "execution_count": 27,
   "metadata": {},
   "outputs": [
    {
     "data": {
      "text/html": [
       "<div>\n",
       "<table border=\"1\" class=\"dataframe\">\n",
       "  <thead>\n",
       "    <tr style=\"text-align: right;\">\n",
       "      <th></th>\n",
       "      <th>age</th>\n",
       "      <th>gender</th>\n",
       "      <th>marital_status</th>\n",
       "    </tr>\n",
       "    <tr>\n",
       "      <th>name</th>\n",
       "      <th></th>\n",
       "      <th></th>\n",
       "      <th></th>\n",
       "    </tr>\n",
       "  </thead>\n",
       "  <tbody>\n",
       "    <tr>\n",
       "      <th>Bob</th>\n",
       "      <td>34</td>\n",
       "      <td>Male</td>\n",
       "      <td>2</td>\n",
       "    </tr>\n",
       "    <tr>\n",
       "      <th>Carol</th>\n",
       "      <td>44</td>\n",
       "      <td>Female</td>\n",
       "      <td>1</td>\n",
       "    </tr>\n",
       "  </tbody>\n",
       "</table>\n",
       "</div>"
      ],
      "text/plain": [
       "       age  gender  marital_status\n",
       "name                              \n",
       "Bob     34    Male               2\n",
       "Carol   44  Female               1"
      ]
     },
     "execution_count": 27,
     "metadata": {},
     "output_type": "execute_result"
    }
   ],
   "source": [
    "# TODO\n",
    "df.loc[['Bob','Carol']]"
   ]
  },
  {
   "cell_type": "code",
   "execution_count": 36,
   "metadata": {},
   "outputs": [
    {
     "data": {
      "text/html": [
       "<div>\n",
       "<table border=\"1\" class=\"dataframe\">\n",
       "  <thead>\n",
       "    <tr style=\"text-align: right;\">\n",
       "      <th></th>\n",
       "      <th>age</th>\n",
       "      <th>gender</th>\n",
       "    </tr>\n",
       "    <tr>\n",
       "      <th>name</th>\n",
       "      <th></th>\n",
       "      <th></th>\n",
       "    </tr>\n",
       "  </thead>\n",
       "  <tbody>\n",
       "    <tr>\n",
       "      <th>Bob</th>\n",
       "      <td>34</td>\n",
       "      <td>Male</td>\n",
       "    </tr>\n",
       "    <tr>\n",
       "      <th>Carol</th>\n",
       "      <td>44</td>\n",
       "      <td>Female</td>\n",
       "    </tr>\n",
       "  </tbody>\n",
       "</table>\n",
       "</div>"
      ],
      "text/plain": [
       "       age  gender\n",
       "name              \n",
       "Bob     34    Male\n",
       "Carol   44  Female"
      ]
     },
     "execution_count": 36,
     "metadata": {},
     "output_type": "execute_result"
    }
   ],
   "source": [
    "df.loc[['Bob','Carol'],['age','gender']]"
   ]
  },
  {
   "cell_type": "markdown",
   "metadata": {},
   "source": [
    "> ### Question 4.  Subset the dataframe on the row Eve alone, first as a `DataFrame`, then as a `Series`"
   ]
  },
  {
   "cell_type": "code",
   "execution_count": 28,
   "metadata": {},
   "outputs": [
    {
     "data": {
      "text/html": [
       "<div>\n",
       "<table border=\"1\" class=\"dataframe\">\n",
       "  <thead>\n",
       "    <tr style=\"text-align: right;\">\n",
       "      <th></th>\n",
       "      <th>age</th>\n",
       "      <th>gender</th>\n",
       "      <th>marital_status</th>\n",
       "    </tr>\n",
       "    <tr>\n",
       "      <th>name</th>\n",
       "      <th></th>\n",
       "      <th></th>\n",
       "      <th></th>\n",
       "    </tr>\n",
       "  </thead>\n",
       "  <tbody>\n",
       "    <tr>\n",
       "      <th>Eve</th>\n",
       "      <td>52</td>\n",
       "      <td>Female</td>\n",
       "      <td>0</td>\n",
       "    </tr>\n",
       "  </tbody>\n",
       "</table>\n",
       "</div>"
      ],
      "text/plain": [
       "      age  gender  marital_status\n",
       "name                             \n",
       "Eve    52  Female               0"
      ]
     },
     "execution_count": 28,
     "metadata": {},
     "output_type": "execute_result"
    }
   ],
   "source": [
    "# TODO (DataFrame)\n",
    "df.loc[['Eve']]"
   ]
  },
  {
   "cell_type": "code",
   "execution_count": 34,
   "metadata": {},
   "outputs": [
    {
     "data": {
      "text/plain": [
       "age                   52\n",
       "gender            Female\n",
       "marital_status         0\n",
       "Name: Eve, dtype: object"
      ]
     },
     "execution_count": 34,
     "metadata": {},
     "output_type": "execute_result"
    }
   ],
   "source": [
    "# TODO (Series)\n",
    "df.loc['Eve']\n"
   ]
  },
  {
   "cell_type": "markdown",
   "metadata": {},
   "source": [
    "> ### Question 5.  How old is Frank?"
   ]
  },
  {
   "cell_type": "code",
   "execution_count": 45,
   "metadata": {},
   "outputs": [
    {
     "name": "stdout",
     "output_type": "stream",
     "text": [
      "43\n",
      "43\n",
      "43\n",
      "43\n"
     ]
    }
   ],
   "source": [
    "# TODO\n",
    "print df.at['Frank','age']\n",
    "print df.loc['Frank']['age']\n",
    "print df.age['Frank']\n",
    "print df.age.Frank"
   ]
  },
  {
   "cell_type": "markdown",
   "metadata": {},
   "source": [
    "> ### Question 6.  What is the men’s mean age, the women’s median age?"
   ]
  },
  {
   "cell_type": "code",
   "execution_count": 50,
   "metadata": {},
   "outputs": [
    {
     "data": {
      "text/plain": [
       "39.333333333333336"
      ]
     },
     "execution_count": 50,
     "metadata": {},
     "output_type": "execute_result"
    }
   ],
   "source": [
    "# TODO\n",
    "df[df.gender == 'Male'].age.mean()"
   ]
  },
  {
   "cell_type": "code",
   "execution_count": 52,
   "metadata": {},
   "outputs": [
    {
     "data": {
      "text/plain": [
       "44.0"
      ]
     },
     "execution_count": 52,
     "metadata": {},
     "output_type": "execute_result"
    }
   ],
   "source": [
    "df[df.gender == 'Female'].age.median()"
   ]
  },
  {
   "cell_type": "markdown",
   "metadata": {},
   "source": [
    "## Part B"
   ]
  },
  {
   "cell_type": "markdown",
   "metadata": {},
   "source": [
    "- `.mean()`\n",
    "  - (http://pandas.pydata.org/pandas-docs/stable/generated/pandas.DataFrame.mean.html)\n",
    "  - (http://pandas.pydata.org/pandas-docs/stable/generated/pandas.Series.mean.html)\n",
    "- `.var()`, `.std()`\n",
    "  - (http://pandas.pydata.org/pandas-docs/stable/generated/pandas.DataFrame.var.html)\n",
    "  - (http://pandas.pydata.org/pandas-docs/stable/generated/pandas.Series.var.html)\n",
    "  - (http://pandas.pydata.org/pandas-docs/stable/generated/pandas.DataFrame.std.html)\n",
    "  - (http://pandas.pydata.org/pandas-docs/stable/generated/pandas.Series.std.html)"
   ]
  },
  {
   "cell_type": "code",
   "execution_count": 53,
   "metadata": {
    "collapsed": true
   },
   "outputs": [],
   "source": [
    "df = pd.read_csv(os.path.join('..', 'datasets', 'dataset-04-zillow.csv'), index_col = 'ID')"
   ]
  },
  {
   "cell_type": "code",
   "execution_count": 54,
   "metadata": {},
   "outputs": [
    {
     "data": {
      "text/html": [
       "<div>\n",
       "<table border=\"1\" class=\"dataframe\">\n",
       "  <thead>\n",
       "    <tr style=\"text-align: right;\">\n",
       "      <th></th>\n",
       "      <th>Address</th>\n",
       "      <th>DateOfSale</th>\n",
       "      <th>SalePrice</th>\n",
       "      <th>IsAStudio</th>\n",
       "      <th>Beds</th>\n",
       "      <th>Baths</th>\n",
       "      <th>Size</th>\n",
       "      <th>LotSize</th>\n",
       "      <th>BuiltInYear</th>\n",
       "    </tr>\n",
       "    <tr>\n",
       "      <th>ID</th>\n",
       "      <th></th>\n",
       "      <th></th>\n",
       "      <th></th>\n",
       "      <th></th>\n",
       "      <th></th>\n",
       "      <th></th>\n",
       "      <th></th>\n",
       "      <th></th>\n",
       "      <th></th>\n",
       "    </tr>\n",
       "  </thead>\n",
       "  <tbody>\n",
       "    <tr>\n",
       "      <th>15063471</th>\n",
       "      <td>55 Vandewater St APT 9, San Francisco, CA</td>\n",
       "      <td>12/4/15</td>\n",
       "      <td>0.7100</td>\n",
       "      <td>0.0</td>\n",
       "      <td>1.0</td>\n",
       "      <td>NaN</td>\n",
       "      <td>550.0</td>\n",
       "      <td>NaN</td>\n",
       "      <td>1980.0</td>\n",
       "    </tr>\n",
       "    <tr>\n",
       "      <th>15063505</th>\n",
       "      <td>740 Francisco St, San Francisco, CA</td>\n",
       "      <td>11/30/15</td>\n",
       "      <td>2.1500</td>\n",
       "      <td>0.0</td>\n",
       "      <td>NaN</td>\n",
       "      <td>2.0</td>\n",
       "      <td>1430.0</td>\n",
       "      <td>2435.0</td>\n",
       "      <td>1948.0</td>\n",
       "    </tr>\n",
       "    <tr>\n",
       "      <th>15063609</th>\n",
       "      <td>819 Francisco St, San Francisco, CA</td>\n",
       "      <td>11/12/15</td>\n",
       "      <td>5.6000</td>\n",
       "      <td>0.0</td>\n",
       "      <td>2.0</td>\n",
       "      <td>3.5</td>\n",
       "      <td>2040.0</td>\n",
       "      <td>3920.0</td>\n",
       "      <td>1976.0</td>\n",
       "    </tr>\n",
       "    <tr>\n",
       "      <th>15064044</th>\n",
       "      <td>199 Chestnut St APT 5, San Francisco, CA</td>\n",
       "      <td>12/11/15</td>\n",
       "      <td>1.5000</td>\n",
       "      <td>0.0</td>\n",
       "      <td>1.0</td>\n",
       "      <td>1.0</td>\n",
       "      <td>1060.0</td>\n",
       "      <td>NaN</td>\n",
       "      <td>1930.0</td>\n",
       "    </tr>\n",
       "    <tr>\n",
       "      <th>15064257</th>\n",
       "      <td>111 Chestnut St APT 403, San Francisco, CA</td>\n",
       "      <td>1/15/16</td>\n",
       "      <td>0.9700</td>\n",
       "      <td>0.0</td>\n",
       "      <td>2.0</td>\n",
       "      <td>2.0</td>\n",
       "      <td>1299.0</td>\n",
       "      <td>NaN</td>\n",
       "      <td>1993.0</td>\n",
       "    </tr>\n",
       "    <tr>\n",
       "      <th>15064295</th>\n",
       "      <td>111 Chestnut St APT 702, San Francisco, CA</td>\n",
       "      <td>12/17/15</td>\n",
       "      <td>0.9400</td>\n",
       "      <td>0.0</td>\n",
       "      <td>2.0</td>\n",
       "      <td>2.0</td>\n",
       "      <td>1033.0</td>\n",
       "      <td>NaN</td>\n",
       "      <td>1993.0</td>\n",
       "    </tr>\n",
       "    <tr>\n",
       "      <th>15064391</th>\n",
       "      <td>1821 Grant Ave APT 101, San Francisco, CA</td>\n",
       "      <td>12/15/15</td>\n",
       "      <td>0.8350</td>\n",
       "      <td>0.0</td>\n",
       "      <td>1.0</td>\n",
       "      <td>1.0</td>\n",
       "      <td>1048.0</td>\n",
       "      <td>NaN</td>\n",
       "      <td>1975.0</td>\n",
       "    </tr>\n",
       "    <tr>\n",
       "      <th>15064536</th>\n",
       "      <td>2300 Leavenworth St, San Francisco, CA</td>\n",
       "      <td>12/4/15</td>\n",
       "      <td>2.8300</td>\n",
       "      <td>0.0</td>\n",
       "      <td>3.0</td>\n",
       "      <td>2.0</td>\n",
       "      <td>2115.0</td>\n",
       "      <td>1271.0</td>\n",
       "      <td>1913.0</td>\n",
       "    </tr>\n",
       "    <tr>\n",
       "      <th>15064640</th>\n",
       "      <td>1047-1049 Lombard St, San Francisco, CA</td>\n",
       "      <td>1/14/16</td>\n",
       "      <td>4.0500</td>\n",
       "      <td>1.0</td>\n",
       "      <td>NaN</td>\n",
       "      <td>NaN</td>\n",
       "      <td>4102.0</td>\n",
       "      <td>3049.0</td>\n",
       "      <td>1948.0</td>\n",
       "    </tr>\n",
       "    <tr>\n",
       "      <th>15064669</th>\n",
       "      <td>1055 Lombard St # C, San Francisco, CA</td>\n",
       "      <td>12/31/15</td>\n",
       "      <td>2.1900</td>\n",
       "      <td>0.0</td>\n",
       "      <td>2.0</td>\n",
       "      <td>3.0</td>\n",
       "      <td>1182.0</td>\n",
       "      <td>NaN</td>\n",
       "      <td>1986.0</td>\n",
       "    </tr>\n",
       "    <tr>\n",
       "      <th>...</th>\n",
       "      <td>...</td>\n",
       "      <td>...</td>\n",
       "      <td>...</td>\n",
       "      <td>...</td>\n",
       "      <td>...</td>\n",
       "      <td>...</td>\n",
       "      <td>...</td>\n",
       "      <td>...</td>\n",
       "      <td>...</td>\n",
       "    </tr>\n",
       "    <tr>\n",
       "      <th>2108546010</th>\n",
       "      <td>1738 Lombard St APT 4, San Francisco, CA</td>\n",
       "      <td>1/14/16</td>\n",
       "      <td>1.4000</td>\n",
       "      <td>0.0</td>\n",
       "      <td>2.0</td>\n",
       "      <td>2.0</td>\n",
       "      <td>NaN</td>\n",
       "      <td>NaN</td>\n",
       "      <td>2004.0</td>\n",
       "    </tr>\n",
       "    <tr>\n",
       "      <th>2114498518</th>\n",
       "      <td>201 Sansome St UNIT 501, San Francisco, CA</td>\n",
       "      <td>1/26/16</td>\n",
       "      <td>0.7575</td>\n",
       "      <td>0.0</td>\n",
       "      <td>1.0</td>\n",
       "      <td>1.0</td>\n",
       "      <td>658.0</td>\n",
       "      <td>NaN</td>\n",
       "      <td>1909.0</td>\n",
       "    </tr>\n",
       "    <tr>\n",
       "      <th>2121221385</th>\n",
       "      <td>925 Larkin St, San Francisco, CA</td>\n",
       "      <td>11/30/15</td>\n",
       "      <td>1.4300</td>\n",
       "      <td>0.0</td>\n",
       "      <td>NaN</td>\n",
       "      <td>NaN</td>\n",
       "      <td>6600.0</td>\n",
       "      <td>NaN</td>\n",
       "      <td>1907.0</td>\n",
       "    </tr>\n",
       "    <tr>\n",
       "      <th>2121978635</th>\n",
       "      <td>829 Folsom St UNIT 906, San Francisco, CA</td>\n",
       "      <td>12/6/15</td>\n",
       "      <td>0.6750</td>\n",
       "      <td>0.0</td>\n",
       "      <td>1.0</td>\n",
       "      <td>1.0</td>\n",
       "      <td>557.0</td>\n",
       "      <td>NaN</td>\n",
       "      <td>2010.0</td>\n",
       "    </tr>\n",
       "    <tr>\n",
       "      <th>2122992200</th>\n",
       "      <td>129 Octavia St, San Francisco, CA</td>\n",
       "      <td>11/20/15</td>\n",
       "      <td>2.7500</td>\n",
       "      <td>1.0</td>\n",
       "      <td>NaN</td>\n",
       "      <td>NaN</td>\n",
       "      <td>3655.0</td>\n",
       "      <td>NaN</td>\n",
       "      <td>1883.0</td>\n",
       "    </tr>\n",
       "    <tr>\n",
       "      <th>2124214951</th>\n",
       "      <td>412 Green St APT A, San Francisco, CA</td>\n",
       "      <td>1/15/16</td>\n",
       "      <td>0.3900</td>\n",
       "      <td>1.0</td>\n",
       "      <td>NaN</td>\n",
       "      <td>1.0</td>\n",
       "      <td>264.0</td>\n",
       "      <td>NaN</td>\n",
       "      <td>2012.0</td>\n",
       "    </tr>\n",
       "    <tr>\n",
       "      <th>2126960082</th>\n",
       "      <td>355 1st St UNIT 1905, San Francisco, CA</td>\n",
       "      <td>11/20/15</td>\n",
       "      <td>0.8600</td>\n",
       "      <td>0.0</td>\n",
       "      <td>1.0</td>\n",
       "      <td>1.0</td>\n",
       "      <td>691.0</td>\n",
       "      <td>NaN</td>\n",
       "      <td>2004.0</td>\n",
       "    </tr>\n",
       "    <tr>\n",
       "      <th>2128308939</th>\n",
       "      <td>33 Santa Cruz Ave, San Francisco, CA</td>\n",
       "      <td>12/10/15</td>\n",
       "      <td>0.8300</td>\n",
       "      <td>0.0</td>\n",
       "      <td>3.0</td>\n",
       "      <td>3.0</td>\n",
       "      <td>1738.0</td>\n",
       "      <td>2299.0</td>\n",
       "      <td>1976.0</td>\n",
       "    </tr>\n",
       "    <tr>\n",
       "      <th>2131957929</th>\n",
       "      <td>1821 Grant Ave, San Francisco, CA</td>\n",
       "      <td>12/15/15</td>\n",
       "      <td>0.8350</td>\n",
       "      <td>0.0</td>\n",
       "      <td>2.0</td>\n",
       "      <td>2.0</td>\n",
       "      <td>1048.0</td>\n",
       "      <td>NaN</td>\n",
       "      <td>1975.0</td>\n",
       "    </tr>\n",
       "    <tr>\n",
       "      <th>2136213970</th>\n",
       "      <td>1200 Gough St, San Francisco, CA</td>\n",
       "      <td>1/10/16</td>\n",
       "      <td>0.8250</td>\n",
       "      <td>0.0</td>\n",
       "      <td>1.0</td>\n",
       "      <td>1.0</td>\n",
       "      <td>900.0</td>\n",
       "      <td>NaN</td>\n",
       "      <td>1966.0</td>\n",
       "    </tr>\n",
       "  </tbody>\n",
       "</table>\n",
       "<p>1000 rows × 9 columns</p>\n",
       "</div>"
      ],
      "text/plain": [
       "                                               Address DateOfSale  SalePrice  \\\n",
       "ID                                                                             \n",
       "15063471     55 Vandewater St APT 9, San Francisco, CA    12/4/15     0.7100   \n",
       "15063505           740 Francisco St, San Francisco, CA   11/30/15     2.1500   \n",
       "15063609           819 Francisco St, San Francisco, CA   11/12/15     5.6000   \n",
       "15064044      199 Chestnut St APT 5, San Francisco, CA   12/11/15     1.5000   \n",
       "15064257    111 Chestnut St APT 403, San Francisco, CA    1/15/16     0.9700   \n",
       "15064295    111 Chestnut St APT 702, San Francisco, CA   12/17/15     0.9400   \n",
       "15064391     1821 Grant Ave APT 101, San Francisco, CA   12/15/15     0.8350   \n",
       "15064536        2300 Leavenworth St, San Francisco, CA    12/4/15     2.8300   \n",
       "15064640       1047-1049 Lombard St, San Francisco, CA    1/14/16     4.0500   \n",
       "15064669        1055 Lombard St # C, San Francisco, CA   12/31/15     2.1900   \n",
       "...                                                ...        ...        ...   \n",
       "2108546010    1738 Lombard St APT 4, San Francisco, CA    1/14/16     1.4000   \n",
       "2114498518  201 Sansome St UNIT 501, San Francisco, CA    1/26/16     0.7575   \n",
       "2121221385            925 Larkin St, San Francisco, CA   11/30/15     1.4300   \n",
       "2121978635   829 Folsom St UNIT 906, San Francisco, CA    12/6/15     0.6750   \n",
       "2122992200           129 Octavia St, San Francisco, CA   11/20/15     2.7500   \n",
       "2124214951       412 Green St APT A, San Francisco, CA    1/15/16     0.3900   \n",
       "2126960082     355 1st St UNIT 1905, San Francisco, CA   11/20/15     0.8600   \n",
       "2128308939        33 Santa Cruz Ave, San Francisco, CA   12/10/15     0.8300   \n",
       "2131957929           1821 Grant Ave, San Francisco, CA   12/15/15     0.8350   \n",
       "2136213970            1200 Gough St, San Francisco, CA    1/10/16     0.8250   \n",
       "\n",
       "            IsAStudio  Beds  Baths    Size  LotSize  BuiltInYear  \n",
       "ID                                                                \n",
       "15063471          0.0   1.0    NaN   550.0      NaN       1980.0  \n",
       "15063505          0.0   NaN    2.0  1430.0   2435.0       1948.0  \n",
       "15063609          0.0   2.0    3.5  2040.0   3920.0       1976.0  \n",
       "15064044          0.0   1.0    1.0  1060.0      NaN       1930.0  \n",
       "15064257          0.0   2.0    2.0  1299.0      NaN       1993.0  \n",
       "15064295          0.0   2.0    2.0  1033.0      NaN       1993.0  \n",
       "15064391          0.0   1.0    1.0  1048.0      NaN       1975.0  \n",
       "15064536          0.0   3.0    2.0  2115.0   1271.0       1913.0  \n",
       "15064640          1.0   NaN    NaN  4102.0   3049.0       1948.0  \n",
       "15064669          0.0   2.0    3.0  1182.0      NaN       1986.0  \n",
       "...               ...   ...    ...     ...      ...          ...  \n",
       "2108546010        0.0   2.0    2.0     NaN      NaN       2004.0  \n",
       "2114498518        0.0   1.0    1.0   658.0      NaN       1909.0  \n",
       "2121221385        0.0   NaN    NaN  6600.0      NaN       1907.0  \n",
       "2121978635        0.0   1.0    1.0   557.0      NaN       2010.0  \n",
       "2122992200        1.0   NaN    NaN  3655.0      NaN       1883.0  \n",
       "2124214951        1.0   NaN    1.0   264.0      NaN       2012.0  \n",
       "2126960082        0.0   1.0    1.0   691.0      NaN       2004.0  \n",
       "2128308939        0.0   3.0    3.0  1738.0   2299.0       1976.0  \n",
       "2131957929        0.0   2.0    2.0  1048.0      NaN       1975.0  \n",
       "2136213970        0.0   1.0    1.0   900.0      NaN       1966.0  \n",
       "\n",
       "[1000 rows x 9 columns]"
      ]
     },
     "execution_count": 54,
     "metadata": {},
     "output_type": "execute_result"
    }
   ],
   "source": [
    "df"
   ]
  },
  {
   "cell_type": "markdown",
   "metadata": {},
   "source": [
    "### `Series.mean()` - Compute the `Series` mean value"
   ]
  },
  {
   "cell_type": "code",
   "execution_count": 75,
   "metadata": {},
   "outputs": [
    {
     "data": {
      "text/plain": [
       "SalePrice         1.397423\n",
       "IsAStudio         0.029412\n",
       "Beds              2.572967\n",
       "Baths             1.977548\n",
       "Size           1641.300931\n",
       "LotSize        3020.640288\n",
       "BuiltInYear    1947.533333\n",
       "dtype: float64"
      ]
     },
     "execution_count": 75,
     "metadata": {},
     "output_type": "execute_result"
    }
   ],
   "source": [
    "df.mean()"
   ]
  },
  {
   "cell_type": "code",
   "execution_count": 55,
   "metadata": {},
   "outputs": [
    {
     "data": {
      "text/plain": [
       "1.3974229429999998"
      ]
     },
     "execution_count": 55,
     "metadata": {},
     "output_type": "execute_result"
    }
   ],
   "source": [
    "df.SalePrice.mean()"
   ]
  },
  {
   "cell_type": "markdown",
   "metadata": {},
   "source": [
    "> #### Activity: What's `Size`'s mean?"
   ]
  },
  {
   "cell_type": "code",
   "execution_count": 56,
   "metadata": {},
   "outputs": [
    {
     "data": {
      "text/plain": [
       "1641.3009307135471"
      ]
     },
     "execution_count": 56,
     "metadata": {},
     "output_type": "execute_result"
    }
   ],
   "source": [
    "# TODO\n",
    "df.Size.mean()"
   ]
  },
  {
   "cell_type": "markdown",
   "metadata": {},
   "source": [
    "> #### Activity: What fraction of the properties sold in the dataset are studios?"
   ]
  },
  {
   "cell_type": "code",
   "execution_count": 146,
   "metadata": {},
   "outputs": [
    {
     "data": {
      "text/plain": [
       "0.029"
      ]
     },
     "execution_count": 146,
     "metadata": {},
     "output_type": "execute_result"
    }
   ],
   "source": [
    "# TODO\n",
    "df.IsAStudio.sum() / len(df)"
   ]
  },
  {
   "cell_type": "code",
   "execution_count": 147,
   "metadata": {},
   "outputs": [
    {
     "data": {
      "text/plain": [
       "0.029411764705882353"
      ]
     },
     "execution_count": 147,
     "metadata": {},
     "output_type": "execute_result"
    }
   ],
   "source": [
    "df.IsAStudio.mean()"
   ]
  },
  {
   "cell_type": "markdown",
   "metadata": {},
   "source": [
    "### `DataFrame.mean()` - Compute the `DataFrame` mean value"
   ]
  },
  {
   "cell_type": "code",
   "execution_count": 68,
   "metadata": {},
   "outputs": [
    {
     "data": {
      "text/plain": [
       "SalePrice         1.397423\n",
       "IsAStudio         0.029412\n",
       "Beds              2.572967\n",
       "Baths             1.977548\n",
       "Size           1641.300931\n",
       "LotSize        3020.640288\n",
       "BuiltInYear    1947.533333\n",
       "dtype: float64"
      ]
     },
     "execution_count": 68,
     "metadata": {},
     "output_type": "execute_result"
    }
   ],
   "source": [
    "# TODO\n",
    "df.mean()"
   ]
  },
  {
   "cell_type": "markdown",
   "metadata": {},
   "source": [
    "### `.var()` - Compute the unbiased variance (normalized by `N-1` by default)"
   ]
  },
  {
   "cell_type": "code",
   "execution_count": 69,
   "metadata": {},
   "outputs": [
    {
     "data": {
      "text/plain": [
       "SalePrice      3.015131e+00\n",
       "IsAStudio      2.857569e-02\n",
       "Beds           1.564729e+00\n",
       "Baths          1.277654e+00\n",
       "Size           1.054762e+06\n",
       "LotSize        8.142064e+06\n",
       "BuiltInYear    1.445639e+03\n",
       "dtype: float64"
      ]
     },
     "execution_count": 69,
     "metadata": {},
     "output_type": "execute_result"
    }
   ],
   "source": [
    "# TODO\n",
    "df.var()"
   ]
  },
  {
   "cell_type": "markdown",
   "metadata": {},
   "source": [
    "> #### Activity: What's the variance for the number of beds in the dataset?"
   ]
  },
  {
   "cell_type": "code",
   "execution_count": 72,
   "metadata": {},
   "outputs": [
    {
     "data": {
      "text/plain": [
       "SalePrice      3.012116e+00\n",
       "IsAStudio      2.854671e-02\n",
       "Beds           1.562858e+00\n",
       "Baths          1.276298e+00\n",
       "Size           1.053671e+06\n",
       "LotSize        8.127420e+06\n",
       "BuiltInYear    1.444157e+03\n",
       "dtype: float64"
      ]
     },
     "execution_count": 72,
     "metadata": {},
     "output_type": "execute_result"
    }
   ],
   "source": [
    "# TODO\n",
    "df.var(ddof=0)"
   ]
  },
  {
   "cell_type": "markdown",
   "metadata": {},
   "source": [
    "### `.std()` - Compute the unbiased standard deviation (normalized by `N-1` by default)"
   ]
  },
  {
   "cell_type": "code",
   "execution_count": 73,
   "metadata": {},
   "outputs": [
    {
     "data": {
      "text/plain": [
       "SalePrice         1.736413\n",
       "IsAStudio         0.169043\n",
       "Beds              1.250891\n",
       "Baths             1.130334\n",
       "Size           1027.016175\n",
       "LotSize        2853.430139\n",
       "BuiltInYear      38.021563\n",
       "dtype: float64"
      ]
     },
     "execution_count": 73,
     "metadata": {},
     "output_type": "execute_result"
    }
   ],
   "source": [
    "# TODO\n",
    "df.std()"
   ]
  },
  {
   "cell_type": "markdown",
   "metadata": {},
   "source": [
    "> #### Activity: What's the standard deviation for the number of beds in the dataset?"
   ]
  },
  {
   "cell_type": "code",
   "execution_count": 74,
   "metadata": {},
   "outputs": [
    {
     "data": {
      "text/plain": [
       "SalePrice         1.735545\n",
       "IsAStudio         0.168958\n",
       "Beds              1.250143\n",
       "Baths             1.129734\n",
       "Size           1026.485005\n",
       "LotSize        2850.862950\n",
       "BuiltInYear      38.002060\n",
       "dtype: float64"
      ]
     },
     "execution_count": 74,
     "metadata": {},
     "output_type": "execute_result"
    }
   ],
   "source": [
    "# TODO\n",
    "df.std(ddof = 0)"
   ]
  },
  {
   "cell_type": "markdown",
   "metadata": {},
   "source": [
    "## Part C"
   ]
  },
  {
   "cell_type": "markdown",
   "metadata": {},
   "source": [
    "- `.median()`\n",
    "  - (http://pandas.pydata.org/pandas-docs/stable/generated/pandas.DataFrame.median.html)\n",
    "  - (http://pandas.pydata.org/pandas-docs/stable/generated/pandas.Series.median.html)\n",
    "- `.count()`, `.sum()`\n",
    "  - (http://pandas.pydata.org/pandas-docs/stable/generated/pandas.DataFrame.count.html)\n",
    "  - (http://pandas.pydata.org/pandas-docs/stable/generated/pandas.Series.count.html)\n",
    "  - (http://pandas.pydata.org/pandas-docs/stable/generated/pandas.DataFrame.sum.html)\n",
    "  - (http://pandas.pydata.org/pandas-docs/stable/generated/pandas.Series.sum.html)\n",
    "- `.count()`\n",
    "  - (http://pandas.pydata.org/pandas-docs/stable/generated/pandas.DataFrame.dropna.html)\n",
    "- `.min()`, `.max()`\n",
    "  - (http://pandas.pydata.org/pandas-docs/stable/generated/pandas.DataFrame.min.html)\n",
    "  - (http://pandas.pydata.org/pandas-docs/stable/generated/pandas.Series.min.html)\n",
    "  - (http://pandas.pydata.org/pandas-docs/stable/generated/pandas.DataFrame.max.html)\n",
    "  - (http://pandas.pydata.org/pandas-docs/stable/generated/pandas.Series.max.html)\n",
    "- `.quantile()`\n",
    "  - (http://pandas.pydata.org/pandas-docs/stable/generated/pandas.DataFrame.quantile.html)\n",
    "  - (http://pandas.pydata.org/pandas-docs/stable/generated/pandas.Series.quantile.html)\n",
    "- `.describe()`\n",
    "  - (http://pandas.pydata.org/pandas-docs/stable/generated/pandas.DataFrame.describe.html)"
   ]
  },
  {
   "cell_type": "markdown",
   "metadata": {},
   "source": [
    "### `.median()` - Compute the median value"
   ]
  },
  {
   "cell_type": "code",
   "execution_count": 76,
   "metadata": {},
   "outputs": [
    {
     "data": {
      "text/plain": [
       "SalePrice         1.1\n",
       "IsAStudio         0.0\n",
       "Beds              2.0\n",
       "Baths             2.0\n",
       "Size           1350.0\n",
       "LotSize        2622.0\n",
       "BuiltInYear    1939.0\n",
       "dtype: float64"
      ]
     },
     "execution_count": 76,
     "metadata": {},
     "output_type": "execute_result"
    }
   ],
   "source": [
    "# TODO\n",
    "df.median()"
   ]
  },
  {
   "cell_type": "markdown",
   "metadata": {},
   "source": [
    "> #### Activity: What's the median sale price for properties in the dataset?"
   ]
  },
  {
   "cell_type": "code",
   "execution_count": 77,
   "metadata": {},
   "outputs": [
    {
     "data": {
      "text/plain": [
       "1.1"
      ]
     },
     "execution_count": 77,
     "metadata": {},
     "output_type": "execute_result"
    }
   ],
   "source": [
    "# TODO\n",
    "df.SalePrice.median()"
   ]
  },
  {
   "cell_type": "markdown",
   "metadata": {},
   "source": [
    "### `.count()` - Compute the number of rows/observations without `NaN` and `.sum()` - Compute the sum of the values"
   ]
  },
  {
   "cell_type": "code",
   "execution_count": 78,
   "metadata": {},
   "outputs": [
    {
     "data": {
      "text/plain": [
       "Address        1000\n",
       "DateOfSale     1000\n",
       "SalePrice      1000\n",
       "IsAStudio       986\n",
       "Beds            836\n",
       "Baths           942\n",
       "Size            967\n",
       "LotSize         556\n",
       "BuiltInYear     975\n",
       "dtype: int64"
      ]
     },
     "execution_count": 78,
     "metadata": {},
     "output_type": "execute_result"
    }
   ],
   "source": [
    "df.count()"
   ]
  },
  {
   "cell_type": "code",
   "execution_count": 79,
   "metadata": {},
   "outputs": [
    {
     "data": {
      "text/plain": [
       "986"
      ]
     },
     "execution_count": 79,
     "metadata": {},
     "output_type": "execute_result"
    }
   ],
   "source": [
    "df.IsAStudio.count()"
   ]
  },
  {
   "cell_type": "markdown",
   "metadata": {},
   "source": [
    "`count()` counts the number of non-`NaN` values:"
   ]
  },
  {
   "cell_type": "code",
   "execution_count": 80,
   "metadata": {},
   "outputs": [
    {
     "data": {
      "text/plain": [
       "986"
      ]
     },
     "execution_count": 80,
     "metadata": {},
     "output_type": "execute_result"
    }
   ],
   "source": [
    "df.IsAStudio.dropna().shape[0]"
   ]
  },
  {
   "cell_type": "code",
   "execution_count": 81,
   "metadata": {},
   "outputs": [
    {
     "data": {
      "text/plain": [
       "14"
      ]
     },
     "execution_count": 81,
     "metadata": {},
     "output_type": "execute_result"
    }
   ],
   "source": [
    "df.IsAStudio.isnull().sum()"
   ]
  },
  {
   "cell_type": "markdown",
   "metadata": {},
   "source": [
    "Which leaves 14 houses for which we don't know if they are studios or not."
   ]
  },
  {
   "cell_type": "code",
   "execution_count": 82,
   "metadata": {},
   "outputs": [
    {
     "data": {
      "text/plain": [
       "1000"
      ]
     },
     "execution_count": 82,
     "metadata": {},
     "output_type": "execute_result"
    }
   ],
   "source": [
    "df.IsAStudio.dropna().shape[0] + df.IsAStudio.isnull().sum()"
   ]
  },
  {
   "cell_type": "code",
   "execution_count": 83,
   "metadata": {},
   "outputs": [
    {
     "data": {
      "text/plain": [
       "29.0"
      ]
     },
     "execution_count": 83,
     "metadata": {},
     "output_type": "execute_result"
    }
   ],
   "source": [
    "df.IsAStudio.sum()"
   ]
  },
  {
   "cell_type": "markdown",
   "metadata": {},
   "source": [
    "29 properties are studios."
   ]
  },
  {
   "cell_type": "markdown",
   "metadata": {},
   "source": [
    "### `.min()` and `.max()` - Compute the minimum and maximum values"
   ]
  },
  {
   "cell_type": "code",
   "execution_count": 85,
   "metadata": {},
   "outputs": [
    {
     "data": {
      "text/plain": [
       "1.0"
      ]
     },
     "execution_count": 85,
     "metadata": {},
     "output_type": "execute_result"
    }
   ],
   "source": [
    "df.SalePrice.min()*(10 ** 6)"
   ]
  },
  {
   "cell_type": "code",
   "execution_count": 99,
   "metadata": {},
   "outputs": [
    {
     "data": {
      "text/html": [
       "<div>\n",
       "<table border=\"1\" class=\"dataframe\">\n",
       "  <thead>\n",
       "    <tr style=\"text-align: right;\">\n",
       "      <th></th>\n",
       "      <th>Address</th>\n",
       "      <th>DateOfSale</th>\n",
       "      <th>SalePrice</th>\n",
       "      <th>IsAStudio</th>\n",
       "      <th>Beds</th>\n",
       "      <th>Baths</th>\n",
       "      <th>Size</th>\n",
       "      <th>LotSize</th>\n",
       "      <th>BuiltInYear</th>\n",
       "    </tr>\n",
       "    <tr>\n",
       "      <th>ID</th>\n",
       "      <th></th>\n",
       "      <th></th>\n",
       "      <th></th>\n",
       "      <th></th>\n",
       "      <th></th>\n",
       "      <th></th>\n",
       "      <th></th>\n",
       "      <th></th>\n",
       "      <th></th>\n",
       "    </tr>\n",
       "  </thead>\n",
       "  <tbody>\n",
       "    <tr>\n",
       "      <th>15149005</th>\n",
       "      <td>251-253 Missouri St, San Francisco, CA</td>\n",
       "      <td>12/23/15</td>\n",
       "      <td>0.000001</td>\n",
       "      <td>0.0</td>\n",
       "      <td>7.0</td>\n",
       "      <td>6.0</td>\n",
       "      <td>2904.0</td>\n",
       "      <td>2482.0</td>\n",
       "      <td>1900.0</td>\n",
       "    </tr>\n",
       "  </tbody>\n",
       "</table>\n",
       "</div>"
      ],
      "text/plain": [
       "                                         Address DateOfSale  SalePrice  \\\n",
       "ID                                                                       \n",
       "15149005  251-253 Missouri St, San Francisco, CA   12/23/15   0.000001   \n",
       "\n",
       "          IsAStudio  Beds  Baths    Size  LotSize  BuiltInYear  \n",
       "ID                                                              \n",
       "15149005        0.0   7.0    6.0  2904.0   2482.0       1900.0  "
      ]
     },
     "execution_count": 99,
     "metadata": {},
     "output_type": "execute_result"
    }
   ],
   "source": [
    "min = df.SalePrice.min()\n",
    "df.loc[df.SalePrice == min]"
   ]
  },
  {
   "cell_type": "markdown",
   "metadata": {},
   "source": [
    "> #### Activity: What are properties that were sold at the lowest price?  At what price?"
   ]
  },
  {
   "cell_type": "code",
   "execution_count": 100,
   "metadata": {},
   "outputs": [
    {
     "data": {
      "text/html": [
       "<div>\n",
       "<table border=\"1\" class=\"dataframe\">\n",
       "  <thead>\n",
       "    <tr style=\"text-align: right;\">\n",
       "      <th></th>\n",
       "      <th>Address</th>\n",
       "      <th>DateOfSale</th>\n",
       "      <th>SalePrice</th>\n",
       "      <th>IsAStudio</th>\n",
       "      <th>Beds</th>\n",
       "      <th>Baths</th>\n",
       "      <th>Size</th>\n",
       "      <th>LotSize</th>\n",
       "      <th>BuiltInYear</th>\n",
       "    </tr>\n",
       "    <tr>\n",
       "      <th>ID</th>\n",
       "      <th></th>\n",
       "      <th></th>\n",
       "      <th></th>\n",
       "      <th></th>\n",
       "      <th></th>\n",
       "      <th></th>\n",
       "      <th></th>\n",
       "      <th></th>\n",
       "      <th></th>\n",
       "    </tr>\n",
       "  </thead>\n",
       "  <tbody>\n",
       "    <tr>\n",
       "      <th>15149005</th>\n",
       "      <td>251-253 Missouri St, San Francisco, CA</td>\n",
       "      <td>12/23/15</td>\n",
       "      <td>0.000001</td>\n",
       "      <td>0.0</td>\n",
       "      <td>7.0</td>\n",
       "      <td>6.0</td>\n",
       "      <td>2904.0</td>\n",
       "      <td>2482.0</td>\n",
       "      <td>1900.0</td>\n",
       "    </tr>\n",
       "  </tbody>\n",
       "</table>\n",
       "</div>"
      ],
      "text/plain": [
       "                                         Address DateOfSale  SalePrice  \\\n",
       "ID                                                                       \n",
       "15149005  251-253 Missouri St, San Francisco, CA   12/23/15   0.000001   \n",
       "\n",
       "          IsAStudio  Beds  Baths    Size  LotSize  BuiltInYear  \n",
       "ID                                                              \n",
       "15149005        0.0   7.0    6.0  2904.0   2482.0       1900.0  "
      ]
     },
     "execution_count": 100,
     "metadata": {},
     "output_type": "execute_result"
    }
   ],
   "source": [
    "# TODO\n",
    "min = df.SalePrice.min()\n",
    "df.loc[df.SalePrice == min]"
   ]
  },
  {
   "cell_type": "code",
   "execution_count": 105,
   "metadata": {},
   "outputs": [
    {
     "data": {
      "text/plain": [
       "32.700000000000003"
      ]
     },
     "execution_count": 105,
     "metadata": {},
     "output_type": "execute_result"
    }
   ],
   "source": [
    "df.SalePrice.max()\n"
   ]
  },
  {
   "cell_type": "markdown",
   "metadata": {},
   "source": [
    "> #### Activity: What are properties that were sold at the highest price?  At what price?"
   ]
  },
  {
   "cell_type": "code",
   "execution_count": 104,
   "metadata": {},
   "outputs": [
    {
     "data": {
      "text/html": [
       "<div>\n",
       "<table border=\"1\" class=\"dataframe\">\n",
       "  <thead>\n",
       "    <tr style=\"text-align: right;\">\n",
       "      <th></th>\n",
       "      <th>Address</th>\n",
       "      <th>DateOfSale</th>\n",
       "      <th>SalePrice</th>\n",
       "      <th>IsAStudio</th>\n",
       "      <th>Beds</th>\n",
       "      <th>Baths</th>\n",
       "      <th>Size</th>\n",
       "      <th>LotSize</th>\n",
       "      <th>BuiltInYear</th>\n",
       "    </tr>\n",
       "    <tr>\n",
       "      <th>ID</th>\n",
       "      <th></th>\n",
       "      <th></th>\n",
       "      <th></th>\n",
       "      <th></th>\n",
       "      <th></th>\n",
       "      <th></th>\n",
       "      <th></th>\n",
       "      <th></th>\n",
       "      <th></th>\n",
       "    </tr>\n",
       "  </thead>\n",
       "  <tbody>\n",
       "    <tr>\n",
       "      <th>15083161</th>\n",
       "      <td>1825 Scott St, San Francisco, CA</td>\n",
       "      <td>11/23/15</td>\n",
       "      <td>32.7</td>\n",
       "      <td>0.0</td>\n",
       "      <td>NaN</td>\n",
       "      <td>1.0</td>\n",
       "      <td>1100.0</td>\n",
       "      <td>1694.0</td>\n",
       "      <td>1900.0</td>\n",
       "    </tr>\n",
       "  </tbody>\n",
       "</table>\n",
       "</div>"
      ],
      "text/plain": [
       "                                   Address DateOfSale  SalePrice  IsAStudio  \\\n",
       "ID                                                                            \n",
       "15083161  1825 Scott St, San Francisco, CA   11/23/15       32.7        0.0   \n",
       "\n",
       "          Beds  Baths    Size  LotSize  BuiltInYear  \n",
       "ID                                                   \n",
       "15083161   NaN    1.0  1100.0   1694.0       1900.0  "
      ]
     },
     "execution_count": 104,
     "metadata": {},
     "output_type": "execute_result"
    }
   ],
   "source": [
    "# TODO\n",
    "max = df.SalePrice.max()\n",
    "df.loc[df.SalePrice == max]"
   ]
  },
  {
   "cell_type": "markdown",
   "metadata": {},
   "source": [
    "### `.quantile()` - Compute values at the given quantile"
   ]
  },
  {
   "cell_type": "code",
   "execution_count": null,
   "metadata": {
    "collapsed": true
   },
   "outputs": [],
   "source": [
    "df.quantile(.5)"
   ]
  },
  {
   "cell_type": "code",
   "execution_count": null,
   "metadata": {
    "collapsed": true
   },
   "outputs": [],
   "source": [
    "df.median()"
   ]
  },
  {
   "cell_type": "code",
   "execution_count": null,
   "metadata": {
    "collapsed": true
   },
   "outputs": [],
   "source": [
    "df.quantile(.25)"
   ]
  },
  {
   "cell_type": "code",
   "execution_count": null,
   "metadata": {
    "collapsed": true
   },
   "outputs": [],
   "source": [
    "df.quantile(.75)"
   ]
  },
  {
   "cell_type": "markdown",
   "metadata": {},
   "source": [
    "### `.describe()` - Generate various summary statistics"
   ]
  },
  {
   "cell_type": "code",
   "execution_count": 106,
   "metadata": {},
   "outputs": [
    {
     "data": {
      "text/html": [
       "<div>\n",
       "<table border=\"1\" class=\"dataframe\">\n",
       "  <thead>\n",
       "    <tr style=\"text-align: right;\">\n",
       "      <th></th>\n",
       "      <th>SalePrice</th>\n",
       "      <th>IsAStudio</th>\n",
       "      <th>Beds</th>\n",
       "      <th>Baths</th>\n",
       "      <th>Size</th>\n",
       "      <th>LotSize</th>\n",
       "      <th>BuiltInYear</th>\n",
       "    </tr>\n",
       "  </thead>\n",
       "  <tbody>\n",
       "    <tr>\n",
       "      <th>count</th>\n",
       "      <td>1000.000000</td>\n",
       "      <td>986.000000</td>\n",
       "      <td>836.000000</td>\n",
       "      <td>942.000000</td>\n",
       "      <td>967.000000</td>\n",
       "      <td>556.000000</td>\n",
       "      <td>975.000000</td>\n",
       "    </tr>\n",
       "    <tr>\n",
       "      <th>mean</th>\n",
       "      <td>1.397423</td>\n",
       "      <td>0.029412</td>\n",
       "      <td>2.572967</td>\n",
       "      <td>1.977548</td>\n",
       "      <td>1641.300931</td>\n",
       "      <td>3020.640288</td>\n",
       "      <td>1947.533333</td>\n",
       "    </tr>\n",
       "    <tr>\n",
       "      <th>std</th>\n",
       "      <td>1.736413</td>\n",
       "      <td>0.169043</td>\n",
       "      <td>1.250891</td>\n",
       "      <td>1.130334</td>\n",
       "      <td>1027.016175</td>\n",
       "      <td>2853.430139</td>\n",
       "      <td>38.021563</td>\n",
       "    </tr>\n",
       "    <tr>\n",
       "      <th>min</th>\n",
       "      <td>0.000001</td>\n",
       "      <td>0.000000</td>\n",
       "      <td>1.000000</td>\n",
       "      <td>1.000000</td>\n",
       "      <td>264.000000</td>\n",
       "      <td>44.000000</td>\n",
       "      <td>1870.000000</td>\n",
       "    </tr>\n",
       "    <tr>\n",
       "      <th>25%</th>\n",
       "      <td>0.800000</td>\n",
       "      <td>0.000000</td>\n",
       "      <td>2.000000</td>\n",
       "      <td>1.000000</td>\n",
       "      <td>1027.500000</td>\n",
       "      <td>2375.000000</td>\n",
       "      <td>1912.000000</td>\n",
       "    </tr>\n",
       "    <tr>\n",
       "      <th>50%</th>\n",
       "      <td>1.100000</td>\n",
       "      <td>0.000000</td>\n",
       "      <td>2.000000</td>\n",
       "      <td>2.000000</td>\n",
       "      <td>1350.000000</td>\n",
       "      <td>2622.000000</td>\n",
       "      <td>1939.000000</td>\n",
       "    </tr>\n",
       "    <tr>\n",
       "      <th>75%</th>\n",
       "      <td>1.532500</td>\n",
       "      <td>0.000000</td>\n",
       "      <td>3.000000</td>\n",
       "      <td>2.000000</td>\n",
       "      <td>1947.500000</td>\n",
       "      <td>3049.000000</td>\n",
       "      <td>1986.000000</td>\n",
       "    </tr>\n",
       "    <tr>\n",
       "      <th>max</th>\n",
       "      <td>32.700000</td>\n",
       "      <td>1.000000</td>\n",
       "      <td>9.000000</td>\n",
       "      <td>14.000000</td>\n",
       "      <td>11500.000000</td>\n",
       "      <td>47916.000000</td>\n",
       "      <td>2015.000000</td>\n",
       "    </tr>\n",
       "  </tbody>\n",
       "</table>\n",
       "</div>"
      ],
      "text/plain": [
       "         SalePrice   IsAStudio        Beds       Baths          Size  \\\n",
       "count  1000.000000  986.000000  836.000000  942.000000    967.000000   \n",
       "mean      1.397423    0.029412    2.572967    1.977548   1641.300931   \n",
       "std       1.736413    0.169043    1.250891    1.130334   1027.016175   \n",
       "min       0.000001    0.000000    1.000000    1.000000    264.000000   \n",
       "25%       0.800000    0.000000    2.000000    1.000000   1027.500000   \n",
       "50%       1.100000    0.000000    2.000000    2.000000   1350.000000   \n",
       "75%       1.532500    0.000000    3.000000    2.000000   1947.500000   \n",
       "max      32.700000    1.000000    9.000000   14.000000  11500.000000   \n",
       "\n",
       "            LotSize  BuiltInYear  \n",
       "count    556.000000   975.000000  \n",
       "mean    3020.640288  1947.533333  \n",
       "std     2853.430139    38.021563  \n",
       "min       44.000000  1870.000000  \n",
       "25%     2375.000000  1912.000000  \n",
       "50%     2622.000000  1939.000000  \n",
       "75%     3049.000000  1986.000000  \n",
       "max    47916.000000  2015.000000  "
      ]
     },
     "execution_count": 106,
     "metadata": {},
     "output_type": "execute_result"
    }
   ],
   "source": [
    "df.describe()"
   ]
  },
  {
   "cell_type": "code",
   "execution_count": 107,
   "metadata": {},
   "outputs": [
    {
     "data": {
      "text/plain": [
       "count    1000.000000\n",
       "mean        1.397423\n",
       "std         1.736413\n",
       "min         0.000001\n",
       "25%         0.800000\n",
       "50%         1.100000\n",
       "75%         1.532500\n",
       "max        32.700000\n",
       "Name: SalePrice, dtype: float64"
      ]
     },
     "execution_count": 107,
     "metadata": {},
     "output_type": "execute_result"
    }
   ],
   "source": [
    "df.SalePrice.describe()"
   ]
  },
  {
   "cell_type": "code",
   "execution_count": 108,
   "metadata": {},
   "outputs": [
    {
     "data": {
      "text/plain": [
       "count                                        1000\n",
       "unique                                        993\n",
       "top       1954 Golden Gate Ave, San Francisco, CA\n",
       "freq                                            2\n",
       "Name: Address, dtype: object"
      ]
     },
     "execution_count": 108,
     "metadata": {},
     "output_type": "execute_result"
    }
   ],
   "source": [
    "df.Address.describe()"
   ]
  },
  {
   "cell_type": "markdown",
   "metadata": {},
   "source": [
    "## Part D"
   ]
  },
  {
   "cell_type": "markdown",
   "metadata": {},
   "source": [
    "- Boxplots\n",
    "  - (http://pandas.pydata.org/pandas-docs/stable/visualization.html#box-plots)\n",
    "  - (http://pandas.pydata.org/pandas-docs/stable/generated/pandas.DataFrame.plot.html) with `kind = 'box'`\n",
    "  - (http://pandas.pydata.org/pandas-docs/stable/generated/pandas.Series.plot.html) with `kind = 'box'`\n",
    "  - (http://pandas.pydata.org/pandas-docs/stable/generated/pandas.DataFrame.boxplot.html)"
   ]
  },
  {
   "cell_type": "code",
   "execution_count": 109,
   "metadata": {},
   "outputs": [
    {
     "data": {
      "text/plain": [
       "<matplotlib.axes._subplots.AxesSubplot at 0x11745be90>"
      ]
     },
     "execution_count": 109,
     "metadata": {},
     "output_type": "execute_result"
    },
    {
     "data": {
      "image/png": "[encoded data removed]",
      "text/plain": [
       "<matplotlib.figure.Figure at 0x1174f02d0>"
      ]
     },
     "metadata": {},
     "output_type": "display_data"
    }
   ],
   "source": [
    "df.SalePrice.plot(kind = 'box', figsize = (8, 8))"
   ]
  },
  {
   "cell_type": "code",
   "execution_count": 110,
   "metadata": {},
   "outputs": [
    {
     "data": {
      "text/plain": [
       "<matplotlib.axes._subplots.AxesSubplot at 0x1174f9850>"
      ]
     },
     "execution_count": 110,
     "metadata": {},
     "output_type": "execute_result"
    },
    {
     "data": {
      "image/png": "[encoded data removed]",
      "text/plain": [
       "<matplotlib.figure.Figure at 0x11a983f90>"
      ]
     },
     "metadata": {},
     "output_type": "display_data"
    }
   ],
   "source": [
    "df[ ['SalePrice'] ].boxplot(figsize = (8, 8))"
   ]
  },
  {
   "cell_type": "markdown",
   "metadata": {},
   "source": [
    "> In the same plot, plot the boxplots of `Beds` and `Baths`"
   ]
  },
  {
   "cell_type": "code",
   "execution_count": null,
   "metadata": {
    "collapsed": true
   },
   "outputs": [],
   "source": [
    "# TODO"
   ]
  },
  {
   "cell_type": "markdown",
   "metadata": {},
   "source": [
    "## Part E"
   ]
  },
  {
   "cell_type": "markdown",
   "metadata": {},
   "source": [
    "- Histograms\n",
    "  - (http://pandas.pydata.org/pandas-docs/stable/visualization.html#histograms)\n",
    "  - (http://pandas.pydata.org/pandas-docs/stable/generated/pandas.DataFrame.plot.html) with `kind = 'hist'`\n",
    "  - (http://pandas.pydata.org/pandas-docs/stable/generated/pandas.Series.plot.html) with `kind = 'hist'`\n",
    "  - (http://pandas.pydata.org/pandas-docs/stable/generated/pandas.DataFrame.hist.html)\n",
    "  - ((http://pandas.pydata.org/pandas-docs/stable/generated/pandas.Series.hist.html)"
   ]
  },
  {
   "cell_type": "code",
   "execution_count": null,
   "metadata": {
    "collapsed": true
   },
   "outputs": [],
   "source": [
    "df.Beds.plot(kind = 'hist', figsize = (8, 8))"
   ]
  },
  {
   "cell_type": "code",
   "execution_count": null,
   "metadata": {
    "collapsed": true
   },
   "outputs": [],
   "source": [
    "df.Beds.hist(figsize = (8, 8))"
   ]
  },
  {
   "cell_type": "markdown",
   "metadata": {},
   "source": [
    "> #### Activity: In the same plot, plot the histograms of `Beds` and `Baths`"
   ]
  },
  {
   "cell_type": "code",
   "execution_count": null,
   "metadata": {
    "collapsed": true
   },
   "outputs": [],
   "source": [
    "# TODO"
   ]
  },
  {
   "cell_type": "markdown",
   "metadata": {},
   "source": [
    "## Part F"
   ]
  },
  {
   "cell_type": "markdown",
   "metadata": {},
   "source": [
    "- `.mode()`\n",
    "  - (http://pandas.pydata.org/pandas-docs/stable/generated/pandas.DataFrame.mode.html)\n",
    "  - ((http://pandas.pydata.org/pandas-docs/stable/generated/pandas.Series.mode.html)"
   ]
  },
  {
   "cell_type": "markdown",
   "metadata": {},
   "source": [
    "### `.mode()` - Compute the mode value(s)"
   ]
  },
  {
   "cell_type": "code",
   "execution_count": 111,
   "metadata": {},
   "outputs": [
    {
     "data": {
      "text/html": [
       "<div>\n",
       "<table border=\"1\" class=\"dataframe\">\n",
       "  <thead>\n",
       "    <tr style=\"text-align: right;\">\n",
       "      <th></th>\n",
       "      <th>Address</th>\n",
       "      <th>DateOfSale</th>\n",
       "      <th>SalePrice</th>\n",
       "      <th>IsAStudio</th>\n",
       "      <th>Beds</th>\n",
       "      <th>Baths</th>\n",
       "      <th>Size</th>\n",
       "      <th>LotSize</th>\n",
       "      <th>BuiltInYear</th>\n",
       "    </tr>\n",
       "  </thead>\n",
       "  <tbody>\n",
       "    <tr>\n",
       "      <th>0</th>\n",
       "      <td>1 Mono St # B, San Francisco, CA</td>\n",
       "      <td>11/20/15</td>\n",
       "      <td>1.1</td>\n",
       "      <td>0.0</td>\n",
       "      <td>2.0</td>\n",
       "      <td>1.0</td>\n",
       "      <td>1000.0</td>\n",
       "      <td>2495.0</td>\n",
       "      <td>1900.0</td>\n",
       "    </tr>\n",
       "    <tr>\n",
       "      <th>1</th>\n",
       "      <td>150 Grand View Ave, San Francisco, CA</td>\n",
       "      <td>NaN</td>\n",
       "      <td>NaN</td>\n",
       "      <td>NaN</td>\n",
       "      <td>NaN</td>\n",
       "      <td>NaN</td>\n",
       "      <td>NaN</td>\n",
       "      <td>NaN</td>\n",
       "      <td>NaN</td>\n",
       "    </tr>\n",
       "    <tr>\n",
       "      <th>2</th>\n",
       "      <td>1915 Diamond St, San Francisco, CA</td>\n",
       "      <td>NaN</td>\n",
       "      <td>NaN</td>\n",
       "      <td>NaN</td>\n",
       "      <td>NaN</td>\n",
       "      <td>NaN</td>\n",
       "      <td>NaN</td>\n",
       "      <td>NaN</td>\n",
       "      <td>NaN</td>\n",
       "    </tr>\n",
       "    <tr>\n",
       "      <th>3</th>\n",
       "      <td>1954 Golden Gate Ave, San Francisco, CA</td>\n",
       "      <td>NaN</td>\n",
       "      <td>NaN</td>\n",
       "      <td>NaN</td>\n",
       "      <td>NaN</td>\n",
       "      <td>NaN</td>\n",
       "      <td>NaN</td>\n",
       "      <td>NaN</td>\n",
       "      <td>NaN</td>\n",
       "    </tr>\n",
       "    <tr>\n",
       "      <th>4</th>\n",
       "      <td>2299 Market St APT 502, San Francisco, CA</td>\n",
       "      <td>NaN</td>\n",
       "      <td>NaN</td>\n",
       "      <td>NaN</td>\n",
       "      <td>NaN</td>\n",
       "      <td>NaN</td>\n",
       "      <td>NaN</td>\n",
       "      <td>NaN</td>\n",
       "      <td>NaN</td>\n",
       "    </tr>\n",
       "    <tr>\n",
       "      <th>5</th>\n",
       "      <td>643 Natoma St, San Francisco, CA</td>\n",
       "      <td>NaN</td>\n",
       "      <td>NaN</td>\n",
       "      <td>NaN</td>\n",
       "      <td>NaN</td>\n",
       "      <td>NaN</td>\n",
       "      <td>NaN</td>\n",
       "      <td>NaN</td>\n",
       "      <td>NaN</td>\n",
       "    </tr>\n",
       "    <tr>\n",
       "      <th>6</th>\n",
       "      <td>829 Folsom St UNIT 906, San Francisco, CA</td>\n",
       "      <td>NaN</td>\n",
       "      <td>NaN</td>\n",
       "      <td>NaN</td>\n",
       "      <td>NaN</td>\n",
       "      <td>NaN</td>\n",
       "      <td>NaN</td>\n",
       "      <td>NaN</td>\n",
       "      <td>NaN</td>\n",
       "    </tr>\n",
       "  </tbody>\n",
       "</table>\n",
       "</div>"
      ],
      "text/plain": [
       "                                     Address DateOfSale  SalePrice  IsAStudio  \\\n",
       "0           1 Mono St # B, San Francisco, CA   11/20/15        1.1        0.0   \n",
       "1      150 Grand View Ave, San Francisco, CA        NaN        NaN        NaN   \n",
       "2         1915 Diamond St, San Francisco, CA        NaN        NaN        NaN   \n",
       "3    1954 Golden Gate Ave, San Francisco, CA        NaN        NaN        NaN   \n",
       "4  2299 Market St APT 502, San Francisco, CA        NaN        NaN        NaN   \n",
       "5           643 Natoma St, San Francisco, CA        NaN        NaN        NaN   \n",
       "6  829 Folsom St UNIT 906, San Francisco, CA        NaN        NaN        NaN   \n",
       "\n",
       "   Beds  Baths    Size  LotSize  BuiltInYear  \n",
       "0   2.0    1.0  1000.0   2495.0       1900.0  \n",
       "1   NaN    NaN     NaN      NaN          NaN  \n",
       "2   NaN    NaN     NaN      NaN          NaN  \n",
       "3   NaN    NaN     NaN      NaN          NaN  \n",
       "4   NaN    NaN     NaN      NaN          NaN  \n",
       "5   NaN    NaN     NaN      NaN          NaN  \n",
       "6   NaN    NaN     NaN      NaN          NaN  "
      ]
     },
     "execution_count": 111,
     "metadata": {},
     "output_type": "execute_result"
    }
   ],
   "source": [
    "df.mode()"
   ]
  },
  {
   "cell_type": "code",
   "execution_count": 112,
   "metadata": {},
   "outputs": [
    {
     "data": {
      "text/plain": [
       "0             1 Mono St # B, San Francisco, CA\n",
       "1        150 Grand View Ave, San Francisco, CA\n",
       "2           1915 Diamond St, San Francisco, CA\n",
       "3      1954 Golden Gate Ave, San Francisco, CA\n",
       "4    2299 Market St APT 502, San Francisco, CA\n",
       "5             643 Natoma St, San Francisco, CA\n",
       "6    829 Folsom St UNIT 906, San Francisco, CA\n",
       "dtype: object"
      ]
     },
     "execution_count": 112,
     "metadata": {},
     "output_type": "execute_result"
    }
   ],
   "source": [
    "df.Address.mode()"
   ]
  },
  {
   "cell_type": "code",
   "execution_count": 113,
   "metadata": {},
   "outputs": [
    {
     "data": {
      "text/plain": [
       "0    1.0\n",
       "dtype: float64"
      ]
     },
     "execution_count": 113,
     "metadata": {},
     "output_type": "execute_result"
    }
   ],
   "source": [
    "df.Baths.mode()"
   ]
  },
  {
   "cell_type": "markdown",
   "metadata": {},
   "source": [
    "The `.mode()` method gets the mode(s) of each element along the columns.  Empty if nothing has 2+ occurrences. Adds a row for each mode per label, fills in gaps with `NaN`.  Note that there could be multiple values returned in the columns (when more than one value share the maximum frequency), which is the reason why a dataframe is returned."
   ]
  },
  {
   "cell_type": "code",
   "execution_count": 114,
   "metadata": {},
   "outputs": [
    {
     "data": {
      "text/html": [
       "<div>\n",
       "<table border=\"1\" class=\"dataframe\">\n",
       "  <thead>\n",
       "    <tr style=\"text-align: right;\">\n",
       "      <th></th>\n",
       "      <th>Address</th>\n",
       "      <th>DateOfSale</th>\n",
       "      <th>SalePrice</th>\n",
       "      <th>IsAStudio</th>\n",
       "      <th>Beds</th>\n",
       "      <th>Baths</th>\n",
       "      <th>Size</th>\n",
       "      <th>LotSize</th>\n",
       "      <th>BuiltInYear</th>\n",
       "    </tr>\n",
       "    <tr>\n",
       "      <th>ID</th>\n",
       "      <th></th>\n",
       "      <th></th>\n",
       "      <th></th>\n",
       "      <th></th>\n",
       "      <th></th>\n",
       "      <th></th>\n",
       "      <th></th>\n",
       "      <th></th>\n",
       "      <th></th>\n",
       "    </tr>\n",
       "  </thead>\n",
       "  <tbody>\n",
       "    <tr>\n",
       "      <th>59700333</th>\n",
       "      <td>1 Mono St # B, San Francisco, CA</td>\n",
       "      <td>12/11/15</td>\n",
       "      <td>1.08</td>\n",
       "      <td>0.0</td>\n",
       "      <td>2.0</td>\n",
       "      <td>1.5</td>\n",
       "      <td>1142.0</td>\n",
       "      <td>NaN</td>\n",
       "      <td>1968.0</td>\n",
       "    </tr>\n",
       "    <tr>\n",
       "      <th>59779608</th>\n",
       "      <td>1 Mono St # B, San Francisco, CA</td>\n",
       "      <td>12/11/15</td>\n",
       "      <td>1.08</td>\n",
       "      <td>0.0</td>\n",
       "      <td>NaN</td>\n",
       "      <td>NaN</td>\n",
       "      <td>1142.0</td>\n",
       "      <td>NaN</td>\n",
       "      <td>1968.0</td>\n",
       "    </tr>\n",
       "  </tbody>\n",
       "</table>\n",
       "</div>"
      ],
      "text/plain": [
       "                                   Address DateOfSale  SalePrice  IsAStudio  \\\n",
       "ID                                                                            \n",
       "59700333  1 Mono St # B, San Francisco, CA   12/11/15       1.08        0.0   \n",
       "59779608  1 Mono St # B, San Francisco, CA   12/11/15       1.08        0.0   \n",
       "\n",
       "          Beds  Baths    Size  LotSize  BuiltInYear  \n",
       "ID                                                   \n",
       "59700333   2.0    1.5  1142.0      NaN       1968.0  \n",
       "59779608   NaN    NaN  1142.0      NaN       1968.0  "
      ]
     },
     "execution_count": 114,
     "metadata": {},
     "output_type": "execute_result"
    }
   ],
   "source": [
    "df[df.Address == '1 Mono St # B, San Francisco, CA']"
   ]
  },
  {
   "cell_type": "code",
   "execution_count": 115,
   "metadata": {},
   "outputs": [
    {
     "data": {
      "text/html": [
       "<div>\n",
       "<table border=\"1\" class=\"dataframe\">\n",
       "  <thead>\n",
       "    <tr style=\"text-align: right;\">\n",
       "      <th></th>\n",
       "      <th>Address</th>\n",
       "      <th>DateOfSale</th>\n",
       "      <th>SalePrice</th>\n",
       "      <th>IsAStudio</th>\n",
       "      <th>Beds</th>\n",
       "      <th>Baths</th>\n",
       "      <th>Size</th>\n",
       "      <th>LotSize</th>\n",
       "      <th>BuiltInYear</th>\n",
       "    </tr>\n",
       "    <tr>\n",
       "      <th>ID</th>\n",
       "      <th></th>\n",
       "      <th></th>\n",
       "      <th></th>\n",
       "      <th></th>\n",
       "      <th></th>\n",
       "      <th></th>\n",
       "      <th></th>\n",
       "      <th></th>\n",
       "      <th></th>\n",
       "    </tr>\n",
       "  </thead>\n",
       "  <tbody>\n",
       "    <tr>\n",
       "      <th>123597964</th>\n",
       "      <td>829 Folsom St UNIT 906, San Francisco, CA</td>\n",
       "      <td>12/7/15</td>\n",
       "      <td>0.675</td>\n",
       "      <td>0.0</td>\n",
       "      <td>NaN</td>\n",
       "      <td>NaN</td>\n",
       "      <td>557.0</td>\n",
       "      <td>NaN</td>\n",
       "      <td>2010.0</td>\n",
       "    </tr>\n",
       "    <tr>\n",
       "      <th>2121978635</th>\n",
       "      <td>829 Folsom St UNIT 906, San Francisco, CA</td>\n",
       "      <td>12/6/15</td>\n",
       "      <td>0.675</td>\n",
       "      <td>0.0</td>\n",
       "      <td>1.0</td>\n",
       "      <td>1.0</td>\n",
       "      <td>557.0</td>\n",
       "      <td>NaN</td>\n",
       "      <td>2010.0</td>\n",
       "    </tr>\n",
       "  </tbody>\n",
       "</table>\n",
       "</div>"
      ],
      "text/plain": [
       "                                              Address DateOfSale  SalePrice  \\\n",
       "ID                                                                            \n",
       "123597964   829 Folsom St UNIT 906, San Francisco, CA    12/7/15      0.675   \n",
       "2121978635  829 Folsom St UNIT 906, San Francisco, CA    12/6/15      0.675   \n",
       "\n",
       "            IsAStudio  Beds  Baths   Size  LotSize  BuiltInYear  \n",
       "ID                                                               \n",
       "123597964         0.0   NaN    NaN  557.0      NaN       2010.0  \n",
       "2121978635        0.0   1.0    1.0  557.0      NaN       2010.0  "
      ]
     },
     "execution_count": 115,
     "metadata": {},
     "output_type": "execute_result"
    }
   ],
   "source": [
    "df[df.Address == '829 Folsom St UNIT 906, San Francisco, CA']"
   ]
  },
  {
   "cell_type": "code",
   "execution_count": 116,
   "metadata": {},
   "outputs": [
    {
     "data": {
      "text/html": [
       "<div>\n",
       "<table border=\"1\" class=\"dataframe\">\n",
       "  <thead>\n",
       "    <tr style=\"text-align: right;\">\n",
       "      <th></th>\n",
       "      <th>Address</th>\n",
       "      <th>DateOfSale</th>\n",
       "      <th>SalePrice</th>\n",
       "      <th>IsAStudio</th>\n",
       "      <th>Beds</th>\n",
       "      <th>Baths</th>\n",
       "      <th>Size</th>\n",
       "      <th>LotSize</th>\n",
       "      <th>BuiltInYear</th>\n",
       "    </tr>\n",
       "    <tr>\n",
       "      <th>ID</th>\n",
       "      <th></th>\n",
       "      <th></th>\n",
       "      <th></th>\n",
       "      <th></th>\n",
       "      <th></th>\n",
       "      <th></th>\n",
       "      <th></th>\n",
       "      <th></th>\n",
       "      <th></th>\n",
       "    </tr>\n",
       "  </thead>\n",
       "  <tbody>\n",
       "    <tr>\n",
       "      <th>125156575</th>\n",
       "      <td>1915 Diamond St, San Francisco, CA</td>\n",
       "      <td>12/30/15</td>\n",
       "      <td>1.8</td>\n",
       "      <td>0.0</td>\n",
       "      <td>NaN</td>\n",
       "      <td>1.0</td>\n",
       "      <td>2200.0</td>\n",
       "      <td>4316.0</td>\n",
       "      <td>1910.0</td>\n",
       "    </tr>\n",
       "    <tr>\n",
       "      <th>2100850402</th>\n",
       "      <td>1915 Diamond St, San Francisco, CA</td>\n",
       "      <td>12/29/15</td>\n",
       "      <td>1.8</td>\n",
       "      <td>0.0</td>\n",
       "      <td>4.0</td>\n",
       "      <td>3.0</td>\n",
       "      <td>2400.0</td>\n",
       "      <td>4356.0</td>\n",
       "      <td>1910.0</td>\n",
       "    </tr>\n",
       "  </tbody>\n",
       "</table>\n",
       "</div>"
      ],
      "text/plain": [
       "                                       Address DateOfSale  SalePrice  \\\n",
       "ID                                                                     \n",
       "125156575   1915 Diamond St, San Francisco, CA   12/30/15        1.8   \n",
       "2100850402  1915 Diamond St, San Francisco, CA   12/29/15        1.8   \n",
       "\n",
       "            IsAStudio  Beds  Baths    Size  LotSize  BuiltInYear  \n",
       "ID                                                                \n",
       "125156575         0.0   NaN    1.0  2200.0   4316.0       1910.0  \n",
       "2100850402        0.0   4.0    3.0  2400.0   4356.0       1910.0  "
      ]
     },
     "execution_count": 116,
     "metadata": {},
     "output_type": "execute_result"
    }
   ],
   "source": [
    "df[df.Address == '1915 Diamond St, San Francisco, CA']"
   ]
  },
  {
   "cell_type": "code",
   "execution_count": 117,
   "metadata": {},
   "outputs": [
    {
     "data": {
      "text/html": [
       "<div>\n",
       "<table border=\"1\" class=\"dataframe\">\n",
       "  <thead>\n",
       "    <tr style=\"text-align: right;\">\n",
       "      <th></th>\n",
       "      <th>Address</th>\n",
       "      <th>DateOfSale</th>\n",
       "      <th>SalePrice</th>\n",
       "      <th>IsAStudio</th>\n",
       "      <th>Beds</th>\n",
       "      <th>Baths</th>\n",
       "      <th>Size</th>\n",
       "      <th>LotSize</th>\n",
       "      <th>BuiltInYear</th>\n",
       "    </tr>\n",
       "    <tr>\n",
       "      <th>ID</th>\n",
       "      <th></th>\n",
       "      <th></th>\n",
       "      <th></th>\n",
       "      <th></th>\n",
       "      <th></th>\n",
       "      <th></th>\n",
       "      <th></th>\n",
       "      <th></th>\n",
       "      <th></th>\n",
       "    </tr>\n",
       "  </thead>\n",
       "  <tbody>\n",
       "    <tr>\n",
       "      <th>15084954</th>\n",
       "      <td>1954 Golden Gate Ave, San Francisco, CA</td>\n",
       "      <td>11/24/15</td>\n",
       "      <td>1.1</td>\n",
       "      <td>0.0</td>\n",
       "      <td>2.0</td>\n",
       "      <td>1.0</td>\n",
       "      <td>1515.0</td>\n",
       "      <td>NaN</td>\n",
       "      <td>1895.0</td>\n",
       "    </tr>\n",
       "    <tr>\n",
       "      <th>123597223</th>\n",
       "      <td>1954 Golden Gate Ave, San Francisco, CA</td>\n",
       "      <td>11/24/15</td>\n",
       "      <td>1.1</td>\n",
       "      <td>0.0</td>\n",
       "      <td>2.0</td>\n",
       "      <td>1.0</td>\n",
       "      <td>1275.0</td>\n",
       "      <td>NaN</td>\n",
       "      <td>1895.0</td>\n",
       "    </tr>\n",
       "  </tbody>\n",
       "</table>\n",
       "</div>"
      ],
      "text/plain": [
       "                                           Address DateOfSale  SalePrice  \\\n",
       "ID                                                                         \n",
       "15084954   1954 Golden Gate Ave, San Francisco, CA   11/24/15        1.1   \n",
       "123597223  1954 Golden Gate Ave, San Francisco, CA   11/24/15        1.1   \n",
       "\n",
       "           IsAStudio  Beds  Baths    Size  LotSize  BuiltInYear  \n",
       "ID                                                               \n",
       "15084954         0.0   2.0    1.0  1515.0      NaN       1895.0  \n",
       "123597223        0.0   2.0    1.0  1275.0      NaN       1895.0  "
      ]
     },
     "execution_count": 117,
     "metadata": {},
     "output_type": "execute_result"
    }
   ],
   "source": [
    "df[df.Address == '1954 Golden Gate Ave, San Francisco, CA']"
   ]
  },
  {
   "cell_type": "code",
   "execution_count": 118,
   "metadata": {},
   "outputs": [
    {
     "data": {
      "text/html": [
       "<div>\n",
       "<table border=\"1\" class=\"dataframe\">\n",
       "  <thead>\n",
       "    <tr style=\"text-align: right;\">\n",
       "      <th></th>\n",
       "      <th>Address</th>\n",
       "      <th>DateOfSale</th>\n",
       "      <th>SalePrice</th>\n",
       "      <th>IsAStudio</th>\n",
       "      <th>Beds</th>\n",
       "      <th>Baths</th>\n",
       "      <th>Size</th>\n",
       "      <th>LotSize</th>\n",
       "      <th>BuiltInYear</th>\n",
       "    </tr>\n",
       "    <tr>\n",
       "      <th>ID</th>\n",
       "      <th></th>\n",
       "      <th></th>\n",
       "      <th></th>\n",
       "      <th></th>\n",
       "      <th></th>\n",
       "      <th></th>\n",
       "      <th></th>\n",
       "      <th></th>\n",
       "      <th></th>\n",
       "    </tr>\n",
       "  </thead>\n",
       "  <tbody>\n",
       "    <tr>\n",
       "      <th>124891624</th>\n",
       "      <td>2299 Market St APT 502, San Francisco, CA</td>\n",
       "      <td>12/4/15</td>\n",
       "      <td>0.915</td>\n",
       "      <td>0.0</td>\n",
       "      <td>1.0</td>\n",
       "      <td>1.0</td>\n",
       "      <td>691.0</td>\n",
       "      <td>NaN</td>\n",
       "      <td>2013.0</td>\n",
       "    </tr>\n",
       "    <tr>\n",
       "      <th>2100902229</th>\n",
       "      <td>2299 Market St APT 502, San Francisco, CA</td>\n",
       "      <td>12/3/15</td>\n",
       "      <td>0.915</td>\n",
       "      <td>0.0</td>\n",
       "      <td>1.0</td>\n",
       "      <td>1.0</td>\n",
       "      <td>700.0</td>\n",
       "      <td>NaN</td>\n",
       "      <td>2013.0</td>\n",
       "    </tr>\n",
       "  </tbody>\n",
       "</table>\n",
       "</div>"
      ],
      "text/plain": [
       "                                              Address DateOfSale  SalePrice  \\\n",
       "ID                                                                            \n",
       "124891624   2299 Market St APT 502, San Francisco, CA    12/4/15      0.915   \n",
       "2100902229  2299 Market St APT 502, San Francisco, CA    12/3/15      0.915   \n",
       "\n",
       "            IsAStudio  Beds  Baths   Size  LotSize  BuiltInYear  \n",
       "ID                                                               \n",
       "124891624         0.0   1.0    1.0  691.0      NaN       2013.0  \n",
       "2100902229        0.0   1.0    1.0  700.0      NaN       2013.0  "
      ]
     },
     "execution_count": 118,
     "metadata": {},
     "output_type": "execute_result"
    }
   ],
   "source": [
    "df[df.Address == '2299 Market St APT 502, San Francisco, CA']"
   ]
  },
  {
   "cell_type": "code",
   "execution_count": 119,
   "metadata": {},
   "outputs": [
    {
     "data": {
      "text/html": [
       "<div>\n",
       "<table border=\"1\" class=\"dataframe\">\n",
       "  <thead>\n",
       "    <tr style=\"text-align: right;\">\n",
       "      <th></th>\n",
       "      <th>Address</th>\n",
       "      <th>DateOfSale</th>\n",
       "      <th>SalePrice</th>\n",
       "      <th>IsAStudio</th>\n",
       "      <th>Beds</th>\n",
       "      <th>Baths</th>\n",
       "      <th>Size</th>\n",
       "      <th>LotSize</th>\n",
       "      <th>BuiltInYear</th>\n",
       "    </tr>\n",
       "    <tr>\n",
       "      <th>ID</th>\n",
       "      <th></th>\n",
       "      <th></th>\n",
       "      <th></th>\n",
       "      <th></th>\n",
       "      <th></th>\n",
       "      <th></th>\n",
       "      <th></th>\n",
       "      <th></th>\n",
       "      <th></th>\n",
       "    </tr>\n",
       "  </thead>\n",
       "  <tbody>\n",
       "    <tr>\n",
       "      <th>15147343</th>\n",
       "      <td>643 Natoma St, San Francisco, CA</td>\n",
       "      <td>12/17/15</td>\n",
       "      <td>0.875</td>\n",
       "      <td>0.0</td>\n",
       "      <td>2.0</td>\n",
       "      <td>1.0</td>\n",
       "      <td>875.0</td>\n",
       "      <td>NaN</td>\n",
       "      <td>1910.0</td>\n",
       "    </tr>\n",
       "    <tr>\n",
       "      <th>123596761</th>\n",
       "      <td>643 Natoma St, San Francisco, CA</td>\n",
       "      <td>12/17/15</td>\n",
       "      <td>0.875</td>\n",
       "      <td>0.0</td>\n",
       "      <td>2.0</td>\n",
       "      <td>1.0</td>\n",
       "      <td>830.0</td>\n",
       "      <td>NaN</td>\n",
       "      <td>1910.0</td>\n",
       "    </tr>\n",
       "  </tbody>\n",
       "</table>\n",
       "</div>"
      ],
      "text/plain": [
       "                                    Address DateOfSale  SalePrice  IsAStudio  \\\n",
       "ID                                                                             \n",
       "15147343   643 Natoma St, San Francisco, CA   12/17/15      0.875        0.0   \n",
       "123596761  643 Natoma St, San Francisco, CA   12/17/15      0.875        0.0   \n",
       "\n",
       "           Beds  Baths   Size  LotSize  BuiltInYear  \n",
       "ID                                                   \n",
       "15147343    2.0    1.0  875.0      NaN       1910.0  \n",
       "123596761   2.0    1.0  830.0      NaN       1910.0  "
      ]
     },
     "execution_count": 119,
     "metadata": {},
     "output_type": "execute_result"
    }
   ],
   "source": [
    "df[df.Address == '643 Natoma St, San Francisco, CA']"
   ]
  },
  {
   "cell_type": "code",
   "execution_count": 120,
   "metadata": {},
   "outputs": [
    {
     "data": {
      "text/html": [
       "<div>\n",
       "<table border=\"1\" class=\"dataframe\">\n",
       "  <thead>\n",
       "    <tr style=\"text-align: right;\">\n",
       "      <th></th>\n",
       "      <th>Address</th>\n",
       "      <th>DateOfSale</th>\n",
       "      <th>SalePrice</th>\n",
       "      <th>IsAStudio</th>\n",
       "      <th>Beds</th>\n",
       "      <th>Baths</th>\n",
       "      <th>Size</th>\n",
       "      <th>LotSize</th>\n",
       "      <th>BuiltInYear</th>\n",
       "    </tr>\n",
       "    <tr>\n",
       "      <th>ID</th>\n",
       "      <th></th>\n",
       "      <th></th>\n",
       "      <th></th>\n",
       "      <th></th>\n",
       "      <th></th>\n",
       "      <th></th>\n",
       "      <th></th>\n",
       "      <th></th>\n",
       "      <th></th>\n",
       "    </tr>\n",
       "  </thead>\n",
       "  <tbody>\n",
       "    <tr>\n",
       "      <th>123597964</th>\n",
       "      <td>829 Folsom St UNIT 906, San Francisco, CA</td>\n",
       "      <td>12/7/15</td>\n",
       "      <td>0.675</td>\n",
       "      <td>0.0</td>\n",
       "      <td>NaN</td>\n",
       "      <td>NaN</td>\n",
       "      <td>557.0</td>\n",
       "      <td>NaN</td>\n",
       "      <td>2010.0</td>\n",
       "    </tr>\n",
       "    <tr>\n",
       "      <th>2121978635</th>\n",
       "      <td>829 Folsom St UNIT 906, San Francisco, CA</td>\n",
       "      <td>12/6/15</td>\n",
       "      <td>0.675</td>\n",
       "      <td>0.0</td>\n",
       "      <td>1.0</td>\n",
       "      <td>1.0</td>\n",
       "      <td>557.0</td>\n",
       "      <td>NaN</td>\n",
       "      <td>2010.0</td>\n",
       "    </tr>\n",
       "  </tbody>\n",
       "</table>\n",
       "</div>"
      ],
      "text/plain": [
       "                                              Address DateOfSale  SalePrice  \\\n",
       "ID                                                                            \n",
       "123597964   829 Folsom St UNIT 906, San Francisco, CA    12/7/15      0.675   \n",
       "2121978635  829 Folsom St UNIT 906, San Francisco, CA    12/6/15      0.675   \n",
       "\n",
       "            IsAStudio  Beds  Baths   Size  LotSize  BuiltInYear  \n",
       "ID                                                               \n",
       "123597964         0.0   NaN    NaN  557.0      NaN       2010.0  \n",
       "2121978635        0.0   1.0    1.0  557.0      NaN       2010.0  "
      ]
     },
     "execution_count": 120,
     "metadata": {},
     "output_type": "execute_result"
    }
   ],
   "source": [
    "df[df.Address == '829 Folsom St UNIT 906, San Francisco, CA']"
   ]
  },
  {
   "cell_type": "markdown",
   "metadata": {},
   "source": [
    "All duplicate entries..."
   ]
  },
  {
   "cell_type": "code",
   "execution_count": 121,
   "metadata": {},
   "outputs": [
    {
     "data": {
      "text/html": [
       "<div>\n",
       "<table border=\"1\" class=\"dataframe\">\n",
       "  <thead>\n",
       "    <tr style=\"text-align: right;\">\n",
       "      <th></th>\n",
       "      <th>Address</th>\n",
       "      <th>DateOfSale</th>\n",
       "      <th>SalePrice</th>\n",
       "      <th>IsAStudio</th>\n",
       "      <th>Beds</th>\n",
       "      <th>Baths</th>\n",
       "      <th>Size</th>\n",
       "      <th>LotSize</th>\n",
       "      <th>BuiltInYear</th>\n",
       "    </tr>\n",
       "    <tr>\n",
       "      <th>ID</th>\n",
       "      <th></th>\n",
       "      <th></th>\n",
       "      <th></th>\n",
       "      <th></th>\n",
       "      <th></th>\n",
       "      <th></th>\n",
       "      <th></th>\n",
       "      <th></th>\n",
       "      <th></th>\n",
       "    </tr>\n",
       "  </thead>\n",
       "  <tbody>\n",
       "    <tr>\n",
       "      <th>15072263</th>\n",
       "      <td>1795 Green St, San Francisco, CA</td>\n",
       "      <td>11/20/15</td>\n",
       "      <td>2.500</td>\n",
       "      <td>0.0</td>\n",
       "      <td>3.0</td>\n",
       "      <td>2.0</td>\n",
       "      <td>1647.0</td>\n",
       "      <td>NaN</td>\n",
       "      <td>1908.0</td>\n",
       "    </tr>\n",
       "    <tr>\n",
       "      <th>15073657</th>\n",
       "      <td>1895 Pacific Ave APT 506, San Francisco, CA</td>\n",
       "      <td>11/20/15</td>\n",
       "      <td>0.975</td>\n",
       "      <td>0.0</td>\n",
       "      <td>1.0</td>\n",
       "      <td>1.0</td>\n",
       "      <td>1165.0</td>\n",
       "      <td>NaN</td>\n",
       "      <td>1931.0</td>\n",
       "    </tr>\n",
       "    <tr>\n",
       "      <th>15084143</th>\n",
       "      <td>270 Ewing Ter, San Francisco, CA</td>\n",
       "      <td>11/20/15</td>\n",
       "      <td>1.570</td>\n",
       "      <td>0.0</td>\n",
       "      <td>2.0</td>\n",
       "      <td>1.0</td>\n",
       "      <td>1250.0</td>\n",
       "      <td>2178.0</td>\n",
       "      <td>1940.0</td>\n",
       "    </tr>\n",
       "    <tr>\n",
       "      <th>15093664</th>\n",
       "      <td>591 29th Ave, San Francisco, CA</td>\n",
       "      <td>11/20/15</td>\n",
       "      <td>1.750</td>\n",
       "      <td>0.0</td>\n",
       "      <td>3.0</td>\n",
       "      <td>2.5</td>\n",
       "      <td>1800.0</td>\n",
       "      <td>1875.0</td>\n",
       "      <td>1936.0</td>\n",
       "    </tr>\n",
       "    <tr>\n",
       "      <th>15100149</th>\n",
       "      <td>806 39th Ave, San Francisco, CA</td>\n",
       "      <td>11/20/15</td>\n",
       "      <td>1.050</td>\n",
       "      <td>0.0</td>\n",
       "      <td>NaN</td>\n",
       "      <td>1.0</td>\n",
       "      <td>1375.0</td>\n",
       "      <td>2374.0</td>\n",
       "      <td>1926.0</td>\n",
       "    </tr>\n",
       "    <tr>\n",
       "      <th>15104379</th>\n",
       "      <td>1466 44th Ave, San Francisco, CA</td>\n",
       "      <td>11/20/15</td>\n",
       "      <td>0.892</td>\n",
       "      <td>0.0</td>\n",
       "      <td>2.0</td>\n",
       "      <td>1.0</td>\n",
       "      <td>1130.0</td>\n",
       "      <td>3049.0</td>\n",
       "      <td>1926.0</td>\n",
       "    </tr>\n",
       "    <tr>\n",
       "      <th>15104496</th>\n",
       "      <td>1422 42nd Ave, San Francisco, CA</td>\n",
       "      <td>11/20/15</td>\n",
       "      <td>1.220</td>\n",
       "      <td>0.0</td>\n",
       "      <td>3.0</td>\n",
       "      <td>1.0</td>\n",
       "      <td>1325.0</td>\n",
       "      <td>2996.0</td>\n",
       "      <td>1951.0</td>\n",
       "    </tr>\n",
       "    <tr>\n",
       "      <th>15118458</th>\n",
       "      <td>2279 47th Ave, San Francisco, CA</td>\n",
       "      <td>11/20/15</td>\n",
       "      <td>1.030</td>\n",
       "      <td>0.0</td>\n",
       "      <td>4.0</td>\n",
       "      <td>3.0</td>\n",
       "      <td>2570.0</td>\n",
       "      <td>2996.0</td>\n",
       "      <td>1900.0</td>\n",
       "    </tr>\n",
       "    <tr>\n",
       "      <th>15124103</th>\n",
       "      <td>2514 40th Ave, San Francisco, CA</td>\n",
       "      <td>11/20/15</td>\n",
       "      <td>1.020</td>\n",
       "      <td>0.0</td>\n",
       "      <td>3.0</td>\n",
       "      <td>2.0</td>\n",
       "      <td>1490.0</td>\n",
       "      <td>3049.0</td>\n",
       "      <td>1945.0</td>\n",
       "    </tr>\n",
       "    <tr>\n",
       "      <th>15127090</th>\n",
       "      <td>262 Castro St, San Francisco, CA</td>\n",
       "      <td>11/20/15</td>\n",
       "      <td>1.700</td>\n",
       "      <td>0.0</td>\n",
       "      <td>2.0</td>\n",
       "      <td>2.0</td>\n",
       "      <td>848.0</td>\n",
       "      <td>3358.0</td>\n",
       "      <td>1906.0</td>\n",
       "    </tr>\n",
       "    <tr>\n",
       "      <th>...</th>\n",
       "      <td>...</td>\n",
       "      <td>...</td>\n",
       "      <td>...</td>\n",
       "      <td>...</td>\n",
       "      <td>...</td>\n",
       "      <td>...</td>\n",
       "      <td>...</td>\n",
       "      <td>...</td>\n",
       "      <td>...</td>\n",
       "    </tr>\n",
       "    <tr>\n",
       "      <th>82785479</th>\n",
       "      <td>750 Van Ness Ave # V704, San Francisco, CA</td>\n",
       "      <td>11/20/15</td>\n",
       "      <td>0.495</td>\n",
       "      <td>1.0</td>\n",
       "      <td>NaN</td>\n",
       "      <td>1.0</td>\n",
       "      <td>395.0</td>\n",
       "      <td>NaN</td>\n",
       "      <td>2008.0</td>\n",
       "    </tr>\n",
       "    <tr>\n",
       "      <th>82785630</th>\n",
       "      <td>753 Baker St, San Francisco, CA</td>\n",
       "      <td>11/20/15</td>\n",
       "      <td>1.200</td>\n",
       "      <td>0.0</td>\n",
       "      <td>2.0</td>\n",
       "      <td>1.0</td>\n",
       "      <td>1444.0</td>\n",
       "      <td>NaN</td>\n",
       "      <td>1900.0</td>\n",
       "    </tr>\n",
       "    <tr>\n",
       "      <th>83154302</th>\n",
       "      <td>888 7th St UNIT 308, San Francisco, CA</td>\n",
       "      <td>11/20/15</td>\n",
       "      <td>0.325</td>\n",
       "      <td>0.0</td>\n",
       "      <td>1.0</td>\n",
       "      <td>1.0</td>\n",
       "      <td>537.0</td>\n",
       "      <td>NaN</td>\n",
       "      <td>2008.0</td>\n",
       "    </tr>\n",
       "    <tr>\n",
       "      <th>89238065</th>\n",
       "      <td>338 Spear St UNIT 5J, San Francisco, CA</td>\n",
       "      <td>11/20/15</td>\n",
       "      <td>1.050</td>\n",
       "      <td>0.0</td>\n",
       "      <td>1.0</td>\n",
       "      <td>1.0</td>\n",
       "      <td>1021.0</td>\n",
       "      <td>NaN</td>\n",
       "      <td>2009.0</td>\n",
       "    </tr>\n",
       "    <tr>\n",
       "      <th>89238087</th>\n",
       "      <td>425 1st St UNIT 4801, San Francisco, CA</td>\n",
       "      <td>11/20/15</td>\n",
       "      <td>0.481</td>\n",
       "      <td>0.0</td>\n",
       "      <td>1.0</td>\n",
       "      <td>1.0</td>\n",
       "      <td>837.0</td>\n",
       "      <td>NaN</td>\n",
       "      <td>2008.0</td>\n",
       "    </tr>\n",
       "    <tr>\n",
       "      <th>89240297</th>\n",
       "      <td>733 Front St UNIT 509, San Francisco, CA</td>\n",
       "      <td>11/20/15</td>\n",
       "      <td>1.200</td>\n",
       "      <td>0.0</td>\n",
       "      <td>1.0</td>\n",
       "      <td>1.0</td>\n",
       "      <td>890.0</td>\n",
       "      <td>NaN</td>\n",
       "      <td>2007.0</td>\n",
       "    </tr>\n",
       "    <tr>\n",
       "      <th>114317753</th>\n",
       "      <td>301 Mission St APT 30F, San Francisco, CA</td>\n",
       "      <td>11/20/15</td>\n",
       "      <td>2.400</td>\n",
       "      <td>0.0</td>\n",
       "      <td>2.0</td>\n",
       "      <td>2.0</td>\n",
       "      <td>1601.0</td>\n",
       "      <td>NaN</td>\n",
       "      <td>2009.0</td>\n",
       "    </tr>\n",
       "    <tr>\n",
       "      <th>119684869</th>\n",
       "      <td>5900 3rd St UNIT 2219, San Francisco, CA</td>\n",
       "      <td>11/20/15</td>\n",
       "      <td>0.680</td>\n",
       "      <td>0.0</td>\n",
       "      <td>2.0</td>\n",
       "      <td>2.0</td>\n",
       "      <td>1011.0</td>\n",
       "      <td>NaN</td>\n",
       "      <td>2010.0</td>\n",
       "    </tr>\n",
       "    <tr>\n",
       "      <th>2122992200</th>\n",
       "      <td>129 Octavia St, San Francisco, CA</td>\n",
       "      <td>11/20/15</td>\n",
       "      <td>2.750</td>\n",
       "      <td>1.0</td>\n",
       "      <td>NaN</td>\n",
       "      <td>NaN</td>\n",
       "      <td>3655.0</td>\n",
       "      <td>NaN</td>\n",
       "      <td>1883.0</td>\n",
       "    </tr>\n",
       "    <tr>\n",
       "      <th>2126960082</th>\n",
       "      <td>355 1st St UNIT 1905, San Francisco, CA</td>\n",
       "      <td>11/20/15</td>\n",
       "      <td>0.860</td>\n",
       "      <td>0.0</td>\n",
       "      <td>1.0</td>\n",
       "      <td>1.0</td>\n",
       "      <td>691.0</td>\n",
       "      <td>NaN</td>\n",
       "      <td>2004.0</td>\n",
       "    </tr>\n",
       "  </tbody>\n",
       "</table>\n",
       "<p>47 rows × 9 columns</p>\n",
       "</div>"
      ],
      "text/plain": [
       "                                                Address DateOfSale  SalePrice  \\\n",
       "ID                                                                              \n",
       "15072263               1795 Green St, San Francisco, CA   11/20/15      2.500   \n",
       "15073657    1895 Pacific Ave APT 506, San Francisco, CA   11/20/15      0.975   \n",
       "15084143               270 Ewing Ter, San Francisco, CA   11/20/15      1.570   \n",
       "15093664                591 29th Ave, San Francisco, CA   11/20/15      1.750   \n",
       "15100149                806 39th Ave, San Francisco, CA   11/20/15      1.050   \n",
       "15104379               1466 44th Ave, San Francisco, CA   11/20/15      0.892   \n",
       "15104496               1422 42nd Ave, San Francisco, CA   11/20/15      1.220   \n",
       "15118458               2279 47th Ave, San Francisco, CA   11/20/15      1.030   \n",
       "15124103               2514 40th Ave, San Francisco, CA   11/20/15      1.020   \n",
       "15127090               262 Castro St, San Francisco, CA   11/20/15      1.700   \n",
       "...                                                 ...        ...        ...   \n",
       "82785479     750 Van Ness Ave # V704, San Francisco, CA   11/20/15      0.495   \n",
       "82785630                753 Baker St, San Francisco, CA   11/20/15      1.200   \n",
       "83154302         888 7th St UNIT 308, San Francisco, CA   11/20/15      0.325   \n",
       "89238065        338 Spear St UNIT 5J, San Francisco, CA   11/20/15      1.050   \n",
       "89238087        425 1st St UNIT 4801, San Francisco, CA   11/20/15      0.481   \n",
       "89240297       733 Front St UNIT 509, San Francisco, CA   11/20/15      1.200   \n",
       "114317753     301 Mission St APT 30F, San Francisco, CA   11/20/15      2.400   \n",
       "119684869      5900 3rd St UNIT 2219, San Francisco, CA   11/20/15      0.680   \n",
       "2122992200            129 Octavia St, San Francisco, CA   11/20/15      2.750   \n",
       "2126960082      355 1st St UNIT 1905, San Francisco, CA   11/20/15      0.860   \n",
       "\n",
       "            IsAStudio  Beds  Baths    Size  LotSize  BuiltInYear  \n",
       "ID                                                                \n",
       "15072263          0.0   3.0    2.0  1647.0      NaN       1908.0  \n",
       "15073657          0.0   1.0    1.0  1165.0      NaN       1931.0  \n",
       "15084143          0.0   2.0    1.0  1250.0   2178.0       1940.0  \n",
       "15093664          0.0   3.0    2.5  1800.0   1875.0       1936.0  \n",
       "15100149          0.0   NaN    1.0  1375.0   2374.0       1926.0  \n",
       "15104379          0.0   2.0    1.0  1130.0   3049.0       1926.0  \n",
       "15104496          0.0   3.0    1.0  1325.0   2996.0       1951.0  \n",
       "15118458          0.0   4.0    3.0  2570.0   2996.0       1900.0  \n",
       "15124103          0.0   3.0    2.0  1490.0   3049.0       1945.0  \n",
       "15127090          0.0   2.0    2.0   848.0   3358.0       1906.0  \n",
       "...               ...   ...    ...     ...      ...          ...  \n",
       "82785479          1.0   NaN    1.0   395.0      NaN       2008.0  \n",
       "82785630          0.0   2.0    1.0  1444.0      NaN       1900.0  \n",
       "83154302          0.0   1.0    1.0   537.0      NaN       2008.0  \n",
       "89238065          0.0   1.0    1.0  1021.0      NaN       2009.0  \n",
       "89238087          0.0   1.0    1.0   837.0      NaN       2008.0  \n",
       "89240297          0.0   1.0    1.0   890.0      NaN       2007.0  \n",
       "114317753         0.0   2.0    2.0  1601.0      NaN       2009.0  \n",
       "119684869         0.0   2.0    2.0  1011.0      NaN       2010.0  \n",
       "2122992200        1.0   NaN    NaN  3655.0      NaN       1883.0  \n",
       "2126960082        0.0   1.0    1.0   691.0      NaN       2004.0  \n",
       "\n",
       "[47 rows x 9 columns]"
      ]
     },
     "execution_count": 121,
     "metadata": {},
     "output_type": "execute_result"
    }
   ],
   "source": [
    "df[df.DateOfSale == '11/20/15']"
   ]
  },
  {
   "cell_type": "code",
   "execution_count": 124,
   "metadata": {},
   "outputs": [
    {
     "data": {
      "text/plain": [
       "47"
      ]
     },
     "execution_count": 124,
     "metadata": {},
     "output_type": "execute_result"
    }
   ],
   "source": [
    "df[df.DateOfSale == '11/20/15'].shape[0]"
   ]
  },
  {
   "cell_type": "code",
   "execution_count": 123,
   "metadata": {},
   "outputs": [
    {
     "data": {
      "text/plain": [
       "47"
      ]
     },
     "execution_count": 123,
     "metadata": {},
     "output_type": "execute_result"
    }
   ],
   "source": [
    "(df.DateOfSale == '11/20/15').sum()"
   ]
  },
  {
   "cell_type": "markdown",
   "metadata": {},
   "source": [
    "## Part G"
   ]
  },
  {
   "cell_type": "markdown",
   "metadata": {
    "collapsed": true
   },
   "source": [
    "- `.corr()`\n",
    "  - (http://pandas.pydata.org/pandas-docs/stable/generated/pandas.DataFrame.corr.html)\n",
    "  - (http://pandas.pydata.org/pandas-docs/stable/generated/pandas.Series.corr.html)\n",
    "- Heatmaps\n",
    "  - (http://matplotlib.org/api/pyplot_api.html#matplotlib.pyplot.matshow)\n",
    "- Scatter plots\n",
    "  - (http://pandas.pydata.org/pandas-docs/stable/visualization.html#scatter-plot)\n",
    "  - (http://pandas.pydata.org/pandas-docs/stable/generated/pandas.DataFrame.plot.html) with `kind = 'scatter'`\n",
    "  - (http://pandas.pydata.org/pandas-docs/stable/generated/pandas.Series.plot.html) with `kind = 'scatter'`\n",
    "  - (http://pandas.pydata.org/pandas-docs/stable/generated/pandas.DataFrame.plot.scatter.html)\n",
    "- Scatter matrices\n",
    "  - (http://pandas.pydata.org/pandas-docs/stable/visualization.html#scatter-matrix-plot)"
   ]
  },
  {
   "cell_type": "code",
   "execution_count": 125,
   "metadata": {},
   "outputs": [
    {
     "data": {
      "text/html": [
       "<div>\n",
       "<table border=\"1\" class=\"dataframe\">\n",
       "  <thead>\n",
       "    <tr style=\"text-align: right;\">\n",
       "      <th></th>\n",
       "      <th>SalePrice</th>\n",
       "      <th>IsAStudio</th>\n",
       "      <th>Beds</th>\n",
       "      <th>Baths</th>\n",
       "      <th>Size</th>\n",
       "      <th>LotSize</th>\n",
       "      <th>BuiltInYear</th>\n",
       "    </tr>\n",
       "  </thead>\n",
       "  <tbody>\n",
       "    <tr>\n",
       "      <th>SalePrice</th>\n",
       "      <td>1.000000</td>\n",
       "      <td>0.008889</td>\n",
       "      <td>0.379453</td>\n",
       "      <td>0.369938</td>\n",
       "      <td>0.485379</td>\n",
       "      <td>0.392418</td>\n",
       "      <td>-0.148598</td>\n",
       "    </tr>\n",
       "    <tr>\n",
       "      <th>IsAStudio</th>\n",
       "      <td>0.008889</td>\n",
       "      <td>1.000000</td>\n",
       "      <td>NaN</td>\n",
       "      <td>-0.078195</td>\n",
       "      <td>0.052166</td>\n",
       "      <td>-0.012622</td>\n",
       "      <td>-0.050258</td>\n",
       "    </tr>\n",
       "    <tr>\n",
       "      <th>Beds</th>\n",
       "      <td>0.379453</td>\n",
       "      <td>NaN</td>\n",
       "      <td>1.000000</td>\n",
       "      <td>0.715194</td>\n",
       "      <td>0.722656</td>\n",
       "      <td>0.070542</td>\n",
       "      <td>-0.344700</td>\n",
       "    </tr>\n",
       "    <tr>\n",
       "      <th>Baths</th>\n",
       "      <td>0.369938</td>\n",
       "      <td>-0.078195</td>\n",
       "      <td>0.715194</td>\n",
       "      <td>1.000000</td>\n",
       "      <td>0.692501</td>\n",
       "      <td>0.108556</td>\n",
       "      <td>-0.078157</td>\n",
       "    </tr>\n",
       "    <tr>\n",
       "      <th>Size</th>\n",
       "      <td>0.485379</td>\n",
       "      <td>0.052166</td>\n",
       "      <td>0.722656</td>\n",
       "      <td>0.692501</td>\n",
       "      <td>1.000000</td>\n",
       "      <td>0.201979</td>\n",
       "      <td>-0.313989</td>\n",
       "    </tr>\n",
       "    <tr>\n",
       "      <th>LotSize</th>\n",
       "      <td>0.392418</td>\n",
       "      <td>-0.012622</td>\n",
       "      <td>0.070542</td>\n",
       "      <td>0.108556</td>\n",
       "      <td>0.201979</td>\n",
       "      <td>1.000000</td>\n",
       "      <td>0.046411</td>\n",
       "    </tr>\n",
       "    <tr>\n",
       "      <th>BuiltInYear</th>\n",
       "      <td>-0.148598</td>\n",
       "      <td>-0.050258</td>\n",
       "      <td>-0.344700</td>\n",
       "      <td>-0.078157</td>\n",
       "      <td>-0.313989</td>\n",
       "      <td>0.046411</td>\n",
       "      <td>1.000000</td>\n",
       "    </tr>\n",
       "  </tbody>\n",
       "</table>\n",
       "</div>"
      ],
      "text/plain": [
       "             SalePrice  IsAStudio      Beds     Baths      Size   LotSize  \\\n",
       "SalePrice     1.000000   0.008889  0.379453  0.369938  0.485379  0.392418   \n",
       "IsAStudio     0.008889   1.000000       NaN -0.078195  0.052166 -0.012622   \n",
       "Beds          0.379453        NaN  1.000000  0.715194  0.722656  0.070542   \n",
       "Baths         0.369938  -0.078195  0.715194  1.000000  0.692501  0.108556   \n",
       "Size          0.485379   0.052166  0.722656  0.692501  1.000000  0.201979   \n",
       "LotSize       0.392418  -0.012622  0.070542  0.108556  0.201979  1.000000   \n",
       "BuiltInYear  -0.148598  -0.050258 -0.344700 -0.078157 -0.313989  0.046411   \n",
       "\n",
       "             BuiltInYear  \n",
       "SalePrice      -0.148598  \n",
       "IsAStudio      -0.050258  \n",
       "Beds           -0.344700  \n",
       "Baths          -0.078157  \n",
       "Size           -0.313989  \n",
       "LotSize         0.046411  \n",
       "BuiltInYear     1.000000  "
      ]
     },
     "execution_count": 125,
     "metadata": {},
     "output_type": "execute_result"
    }
   ],
   "source": [
    "df.corr()"
   ]
  },
  {
   "cell_type": "code",
   "execution_count": 126,
   "metadata": {},
   "outputs": [
    {
     "data": {
      "text/plain": [
       "0.71519388432089781"
      ]
     },
     "execution_count": 126,
     "metadata": {},
     "output_type": "execute_result"
    }
   ],
   "source": [
    "df.Beds.corr(df.Baths)"
   ]
  },
  {
   "cell_type": "markdown",
   "metadata": {},
   "source": [
    "### Heatmaps"
   ]
  },
  {
   "cell_type": "code",
   "execution_count": 127,
   "metadata": {},
   "outputs": [
    {
     "data": {
      "text/html": [
       "<div>\n",
       "<table border=\"1\" class=\"dataframe\">\n",
       "  <thead>\n",
       "    <tr style=\"text-align: right;\">\n",
       "      <th></th>\n",
       "      <th>SalePrice</th>\n",
       "      <th>IsAStudio</th>\n",
       "      <th>Beds</th>\n",
       "      <th>Baths</th>\n",
       "      <th>Size</th>\n",
       "      <th>LotSize</th>\n",
       "      <th>BuiltInYear</th>\n",
       "    </tr>\n",
       "  </thead>\n",
       "  <tbody>\n",
       "    <tr>\n",
       "      <th>SalePrice</th>\n",
       "      <td>1.000000</td>\n",
       "      <td>0.008889</td>\n",
       "      <td>0.379453</td>\n",
       "      <td>0.369938</td>\n",
       "      <td>0.485379</td>\n",
       "      <td>0.392418</td>\n",
       "      <td>-0.148598</td>\n",
       "    </tr>\n",
       "    <tr>\n",
       "      <th>IsAStudio</th>\n",
       "      <td>0.008889</td>\n",
       "      <td>1.000000</td>\n",
       "      <td>NaN</td>\n",
       "      <td>-0.078195</td>\n",
       "      <td>0.052166</td>\n",
       "      <td>-0.012622</td>\n",
       "      <td>-0.050258</td>\n",
       "    </tr>\n",
       "    <tr>\n",
       "      <th>Beds</th>\n",
       "      <td>0.379453</td>\n",
       "      <td>NaN</td>\n",
       "      <td>1.000000</td>\n",
       "      <td>0.715194</td>\n",
       "      <td>0.722656</td>\n",
       "      <td>0.070542</td>\n",
       "      <td>-0.344700</td>\n",
       "    </tr>\n",
       "    <tr>\n",
       "      <th>Baths</th>\n",
       "      <td>0.369938</td>\n",
       "      <td>-0.078195</td>\n",
       "      <td>0.715194</td>\n",
       "      <td>1.000000</td>\n",
       "      <td>0.692501</td>\n",
       "      <td>0.108556</td>\n",
       "      <td>-0.078157</td>\n",
       "    </tr>\n",
       "    <tr>\n",
       "      <th>Size</th>\n",
       "      <td>0.485379</td>\n",
       "      <td>0.052166</td>\n",
       "      <td>0.722656</td>\n",
       "      <td>0.692501</td>\n",
       "      <td>1.000000</td>\n",
       "      <td>0.201979</td>\n",
       "      <td>-0.313989</td>\n",
       "    </tr>\n",
       "    <tr>\n",
       "      <th>LotSize</th>\n",
       "      <td>0.392418</td>\n",
       "      <td>-0.012622</td>\n",
       "      <td>0.070542</td>\n",
       "      <td>0.108556</td>\n",
       "      <td>0.201979</td>\n",
       "      <td>1.000000</td>\n",
       "      <td>0.046411</td>\n",
       "    </tr>\n",
       "    <tr>\n",
       "      <th>BuiltInYear</th>\n",
       "      <td>-0.148598</td>\n",
       "      <td>-0.050258</td>\n",
       "      <td>-0.344700</td>\n",
       "      <td>-0.078157</td>\n",
       "      <td>-0.313989</td>\n",
       "      <td>0.046411</td>\n",
       "      <td>1.000000</td>\n",
       "    </tr>\n",
       "  </tbody>\n",
       "</table>\n",
       "</div>"
      ],
      "text/plain": [
       "             SalePrice  IsAStudio      Beds     Baths      Size   LotSize  \\\n",
       "SalePrice     1.000000   0.008889  0.379453  0.369938  0.485379  0.392418   \n",
       "IsAStudio     0.008889   1.000000       NaN -0.078195  0.052166 -0.012622   \n",
       "Beds          0.379453        NaN  1.000000  0.715194  0.722656  0.070542   \n",
       "Baths         0.369938  -0.078195  0.715194  1.000000  0.692501  0.108556   \n",
       "Size          0.485379   0.052166  0.722656  0.692501  1.000000  0.201979   \n",
       "LotSize       0.392418  -0.012622  0.070542  0.108556  0.201979  1.000000   \n",
       "BuiltInYear  -0.148598  -0.050258 -0.344700 -0.078157 -0.313989  0.046411   \n",
       "\n",
       "             BuiltInYear  \n",
       "SalePrice      -0.148598  \n",
       "IsAStudio      -0.050258  \n",
       "Beds           -0.344700  \n",
       "Baths          -0.078157  \n",
       "Size           -0.313989  \n",
       "LotSize         0.046411  \n",
       "BuiltInYear     1.000000  "
      ]
     },
     "execution_count": 127,
     "metadata": {},
     "output_type": "execute_result"
    }
   ],
   "source": [
    "corr = df.corr()\n",
    "\n",
    "corr"
   ]
  },
  {
   "cell_type": "code",
   "execution_count": 128,
   "metadata": {
    "collapsed": true
   },
   "outputs": [],
   "source": [
    "# TODO"
   ]
  },
  {
   "cell_type": "markdown",
   "metadata": {},
   "source": [
    "Let's pretty this up."
   ]
  },
  {
   "cell_type": "code",
   "execution_count": 129,
   "metadata": {},
   "outputs": [
    {
     "data": {
      "text/plain": [
       "['SalePrice', 'IsAStudio', 'Beds', 'Baths', 'Size', 'LotSize', 'BuiltInYear']"
      ]
     },
     "execution_count": 129,
     "metadata": {},
     "output_type": "execute_result"
    }
   ],
   "source": [
    "list(corr.columns)"
   ]
  },
  {
   "cell_type": "code",
   "execution_count": 130,
   "metadata": {},
   "outputs": [
    {
     "data": {
      "text/plain": [
       "[<matplotlib.text.Text at 0x11ac12610>,\n",
       " <matplotlib.text.Text at 0x11ac20710>,\n",
       " <matplotlib.text.Text at 0x11b1a3950>,\n",
       " <matplotlib.text.Text at 0x11b1a3e90>,\n",
       " <matplotlib.text.Text at 0x11b1a9610>,\n",
       " <matplotlib.text.Text at 0x11b196d10>,\n",
       " <matplotlib.text.Text at 0x11b1a9e90>,\n",
       " <matplotlib.text.Text at 0x11b1b3610>]"
      ]
     },
     "execution_count": 130,
     "metadata": {},
     "output_type": "execute_result"
    },
    {
     "data": {
      "image/png": "[encoded data removed]",
      "text/plain": [
       "<matplotlib.figure.Figure at 0x11aba5a10>"
      ]
     },
     "metadata": {},
     "output_type": "display_data"
    }
   ],
   "source": [
    "figure = plt.figure()\n",
    "subplot = figure.add_subplot(1, 1, 1)\n",
    "figure.colorbar(subplot.matshow(corr))\n",
    "subplot.set_xticklabels([None] + list(corr.columns), rotation = 90)\n",
    "subplot.set_yticklabels([None] + list(corr.columns))"
   ]
  },
  {
   "cell_type": "markdown",
   "metadata": {},
   "source": [
    "### Scatter plots"
   ]
  },
  {
   "cell_type": "code",
   "execution_count": null,
   "metadata": {
    "collapsed": true
   },
   "outputs": [],
   "source": [
    "df.plot(kind = 'scatter', x = 'Beds', y = 'Baths', s = 100, figsize = (8, 8))"
   ]
  },
  {
   "cell_type": "code",
   "execution_count": null,
   "metadata": {
    "collapsed": true
   },
   "outputs": [],
   "source": [
    "df.plot.scatter(x = 'Beds', y = 'Baths', s = 100, figsize = (8, 8))"
   ]
  },
  {
   "cell_type": "markdown",
   "metadata": {},
   "source": [
    "### Scatter matrices"
   ]
  },
  {
   "cell_type": "code",
   "execution_count": null,
   "metadata": {
    "collapsed": true
   },
   "outputs": [],
   "source": [
    "pd.tools.plotting.scatter_matrix(df[ ['Beds', 'Baths'] ], diagonal = 'kde', s = 500, figsize = (8, 8))"
   ]
  },
  {
   "cell_type": "code",
   "execution_count": null,
   "metadata": {
    "collapsed": true
   },
   "outputs": [],
   "source": [
    "pd.tools.plotting.scatter_matrix(df[ ['SalePrice', 'Size'] ], s = 200, figsize = (8, 8))"
   ]
  },
  {
   "cell_type": "markdown",
   "metadata": {},
   "source": [
    "## Part H"
   ]
  },
  {
   "cell_type": "markdown",
   "metadata": {},
   "source": [
    "- `.value_counts()`\n",
    "  - (http://pandas.pydata.org/pandas-docs/stable/generated/pandas.Series.value_counts.html)\n",
    "- `.crosstab()`\n",
    "  - (http://pandas.pydata.org/pandas-docs/stable/generated/pandas.crosstab.html)"
   ]
  },
  {
   "cell_type": "markdown",
   "metadata": {},
   "source": [
    "> #### Activity: Reproduce the `Beds` histogram above.  For each possible number of beds, how many properties share that bed count?"
   ]
  },
  {
   "cell_type": "code",
   "execution_count": 131,
   "metadata": {},
   "outputs": [
    {
     "data": {
      "text/plain": [
       "array([  1.,  nan,   2.,   3.,   5.,   4.,   7.,   6.,   8.,   9.])"
      ]
     },
     "execution_count": 131,
     "metadata": {},
     "output_type": "execute_result"
    }
   ],
   "source": [
    "# TODO\n",
    "df.Beds.unique()"
   ]
  },
  {
   "cell_type": "code",
   "execution_count": 136,
   "metadata": {},
   "outputs": [
    {
     "data": {
      "text/plain": [
       "2.0    316\n",
       "3.0    226\n",
       "1.0    142\n",
       "4.0    103\n",
       "5.0     28\n",
       "6.0      9\n",
       "7.0      6\n",
       "9.0      3\n",
       "8.0      3\n",
       "Name: Beds, dtype: int64"
      ]
     },
     "execution_count": 136,
     "metadata": {},
     "output_type": "execute_result"
    }
   ],
   "source": [
    "df.Beds.value_counts()"
   ]
  },
  {
   "cell_type": "markdown",
   "metadata": {},
   "source": [
    "> Careful on checking for `NaN` values!"
   ]
  },
  {
   "cell_type": "code",
   "execution_count": 135,
   "metadata": {},
   "outputs": [
    {
     "data": {
      "text/plain": [
       " 2.0    316\n",
       " 3.0    226\n",
       "NaN     164\n",
       " 1.0    142\n",
       " 4.0    103\n",
       " 5.0     28\n",
       " 6.0      9\n",
       " 7.0      6\n",
       " 9.0      3\n",
       " 8.0      3\n",
       "Name: Beds, dtype: int64"
      ]
     },
     "execution_count": 135,
     "metadata": {},
     "output_type": "execute_result"
    }
   ],
   "source": [
    "# TODO\n",
    "df.Beds.value_counts(dropna=0)"
   ]
  },
  {
   "cell_type": "markdown",
   "metadata": {},
   "source": [
    "> #### Activity: Create a frequency table for `Baths` over `Beds`"
   ]
  },
  {
   "cell_type": "code",
   "execution_count": 138,
   "metadata": {},
   "outputs": [
    {
     "data": {
      "text/html": [
       "<div>\n",
       "<table border=\"1\" class=\"dataframe\">\n",
       "  <thead>\n",
       "    <tr style=\"text-align: right;\">\n",
       "      <th>Baths</th>\n",
       "      <th>1.0</th>\n",
       "      <th>1.1</th>\n",
       "      <th>1.25</th>\n",
       "      <th>1.5</th>\n",
       "      <th>1.75</th>\n",
       "      <th>...</th>\n",
       "      <th>6.0</th>\n",
       "      <th>6.5</th>\n",
       "      <th>7.5</th>\n",
       "      <th>8.0</th>\n",
       "      <th>14.0</th>\n",
       "    </tr>\n",
       "    <tr>\n",
       "      <th>Beds</th>\n",
       "      <th></th>\n",
       "      <th></th>\n",
       "      <th></th>\n",
       "      <th></th>\n",
       "      <th></th>\n",
       "      <th></th>\n",
       "      <th></th>\n",
       "      <th></th>\n",
       "      <th></th>\n",
       "      <th></th>\n",
       "      <th></th>\n",
       "    </tr>\n",
       "  </thead>\n",
       "  <tbody>\n",
       "    <tr>\n",
       "      <th>1.0</th>\n",
       "      <td>116</td>\n",
       "      <td>1</td>\n",
       "      <td>0</td>\n",
       "      <td>7</td>\n",
       "      <td>0</td>\n",
       "      <td>...</td>\n",
       "      <td>0</td>\n",
       "      <td>0</td>\n",
       "      <td>0</td>\n",
       "      <td>0</td>\n",
       "      <td>0</td>\n",
       "    </tr>\n",
       "    <tr>\n",
       "      <th>2.0</th>\n",
       "      <td>133</td>\n",
       "      <td>0</td>\n",
       "      <td>0</td>\n",
       "      <td>19</td>\n",
       "      <td>0</td>\n",
       "      <td>...</td>\n",
       "      <td>0</td>\n",
       "      <td>0</td>\n",
       "      <td>0</td>\n",
       "      <td>0</td>\n",
       "      <td>0</td>\n",
       "    </tr>\n",
       "    <tr>\n",
       "      <th>3.0</th>\n",
       "      <td>39</td>\n",
       "      <td>0</td>\n",
       "      <td>1</td>\n",
       "      <td>9</td>\n",
       "      <td>1</td>\n",
       "      <td>...</td>\n",
       "      <td>0</td>\n",
       "      <td>0</td>\n",
       "      <td>0</td>\n",
       "      <td>0</td>\n",
       "      <td>0</td>\n",
       "    </tr>\n",
       "    <tr>\n",
       "      <th>4.0</th>\n",
       "      <td>1</td>\n",
       "      <td>0</td>\n",
       "      <td>0</td>\n",
       "      <td>1</td>\n",
       "      <td>0</td>\n",
       "      <td>...</td>\n",
       "      <td>0</td>\n",
       "      <td>0</td>\n",
       "      <td>0</td>\n",
       "      <td>0</td>\n",
       "      <td>0</td>\n",
       "    </tr>\n",
       "    <tr>\n",
       "      <th>5.0</th>\n",
       "      <td>0</td>\n",
       "      <td>0</td>\n",
       "      <td>0</td>\n",
       "      <td>1</td>\n",
       "      <td>0</td>\n",
       "      <td>...</td>\n",
       "      <td>3</td>\n",
       "      <td>0</td>\n",
       "      <td>0</td>\n",
       "      <td>0</td>\n",
       "      <td>0</td>\n",
       "    </tr>\n",
       "    <tr>\n",
       "      <th>6.0</th>\n",
       "      <td>0</td>\n",
       "      <td>0</td>\n",
       "      <td>0</td>\n",
       "      <td>0</td>\n",
       "      <td>0</td>\n",
       "      <td>...</td>\n",
       "      <td>1</td>\n",
       "      <td>0</td>\n",
       "      <td>1</td>\n",
       "      <td>0</td>\n",
       "      <td>0</td>\n",
       "    </tr>\n",
       "    <tr>\n",
       "      <th>7.0</th>\n",
       "      <td>0</td>\n",
       "      <td>0</td>\n",
       "      <td>0</td>\n",
       "      <td>0</td>\n",
       "      <td>0</td>\n",
       "      <td>...</td>\n",
       "      <td>1</td>\n",
       "      <td>1</td>\n",
       "      <td>0</td>\n",
       "      <td>1</td>\n",
       "      <td>1</td>\n",
       "    </tr>\n",
       "    <tr>\n",
       "      <th>8.0</th>\n",
       "      <td>0</td>\n",
       "      <td>0</td>\n",
       "      <td>0</td>\n",
       "      <td>0</td>\n",
       "      <td>0</td>\n",
       "      <td>...</td>\n",
       "      <td>1</td>\n",
       "      <td>0</td>\n",
       "      <td>0</td>\n",
       "      <td>0</td>\n",
       "      <td>0</td>\n",
       "    </tr>\n",
       "    <tr>\n",
       "      <th>9.0</th>\n",
       "      <td>0</td>\n",
       "      <td>0</td>\n",
       "      <td>0</td>\n",
       "      <td>0</td>\n",
       "      <td>0</td>\n",
       "      <td>...</td>\n",
       "      <td>2</td>\n",
       "      <td>0</td>\n",
       "      <td>0</td>\n",
       "      <td>0</td>\n",
       "      <td>0</td>\n",
       "    </tr>\n",
       "  </tbody>\n",
       "</table>\n",
       "<p>9 rows × 19 columns</p>\n",
       "</div>"
      ],
      "text/plain": [
       "Baths  1.00   1.10   1.25   1.50   1.75   ...    6.00   6.50   7.50   8.00   \\\n",
       "Beds                                      ...                                 \n",
       "1.0      116      1      0      7      0  ...        0      0      0      0   \n",
       "2.0      133      0      0     19      0  ...        0      0      0      0   \n",
       "3.0       39      0      1      9      1  ...        0      0      0      0   \n",
       "4.0        1      0      0      1      0  ...        0      0      0      0   \n",
       "5.0        0      0      0      1      0  ...        3      0      0      0   \n",
       "6.0        0      0      0      0      0  ...        1      0      1      0   \n",
       "7.0        0      0      0      0      0  ...        1      1      0      1   \n",
       "8.0        0      0      0      0      0  ...        1      0      0      0   \n",
       "9.0        0      0      0      0      0  ...        2      0      0      0   \n",
       "\n",
       "Baths  14.00  \n",
       "Beds          \n",
       "1.0        0  \n",
       "2.0        0  \n",
       "3.0        0  \n",
       "4.0        0  \n",
       "5.0        0  \n",
       "6.0        0  \n",
       "7.0        1  \n",
       "8.0        0  \n",
       "9.0        0  \n",
       "\n",
       "[9 rows x 19 columns]"
      ]
     },
     "execution_count": 138,
     "metadata": {},
     "output_type": "execute_result"
    }
   ],
   "source": [
    "# TODO\n",
    "pd.crosstab(df.Beds, df.Baths)"
   ]
  },
  {
   "cell_type": "markdown",
   "metadata": {},
   "source": [
    "> #### Activity: Create a frequency table for `Beds` and `Baths` (together) over the centry the houses were built"
   ]
  },
  {
   "cell_type": "code",
   "execution_count": 141,
   "metadata": {},
   "outputs": [
    {
     "data": {
      "text/html": [
       "<div>\n",
       "<table border=\"1\" class=\"dataframe\">\n",
       "  <thead>\n",
       "    <tr style=\"text-align: right;\">\n",
       "      <th></th>\n",
       "      <th>Century</th>\n",
       "      <th>18.0</th>\n",
       "      <th>19.0</th>\n",
       "      <th>20.0</th>\n",
       "    </tr>\n",
       "    <tr>\n",
       "      <th>Beds</th>\n",
       "      <th>Baths</th>\n",
       "      <th></th>\n",
       "      <th></th>\n",
       "      <th></th>\n",
       "    </tr>\n",
       "  </thead>\n",
       "  <tbody>\n",
       "    <tr>\n",
       "      <th rowspan=\"4\" valign=\"top\">1.0</th>\n",
       "      <th>1.0</th>\n",
       "      <td>3</td>\n",
       "      <td>67</td>\n",
       "      <td>43</td>\n",
       "    </tr>\n",
       "    <tr>\n",
       "      <th>1.1</th>\n",
       "      <td>0</td>\n",
       "      <td>0</td>\n",
       "      <td>1</td>\n",
       "    </tr>\n",
       "    <tr>\n",
       "      <th>1.5</th>\n",
       "      <td>0</td>\n",
       "      <td>3</td>\n",
       "      <td>4</td>\n",
       "    </tr>\n",
       "    <tr>\n",
       "      <th>2.0</th>\n",
       "      <td>1</td>\n",
       "      <td>4</td>\n",
       "      <td>12</td>\n",
       "    </tr>\n",
       "    <tr>\n",
       "      <th rowspan=\"6\" valign=\"top\">2.0</th>\n",
       "      <th>1.0</th>\n",
       "      <td>2</td>\n",
       "      <td>123</td>\n",
       "      <td>2</td>\n",
       "    </tr>\n",
       "    <tr>\n",
       "      <th>1.5</th>\n",
       "      <td>1</td>\n",
       "      <td>16</td>\n",
       "      <td>2</td>\n",
       "    </tr>\n",
       "    <tr>\n",
       "      <th>2.0</th>\n",
       "      <td>1</td>\n",
       "      <td>66</td>\n",
       "      <td>69</td>\n",
       "    </tr>\n",
       "    <tr>\n",
       "      <th>2.5</th>\n",
       "      <td>0</td>\n",
       "      <td>4</td>\n",
       "      <td>7</td>\n",
       "    </tr>\n",
       "    <tr>\n",
       "      <th>3.0</th>\n",
       "      <td>0</td>\n",
       "      <td>6</td>\n",
       "      <td>2</td>\n",
       "    </tr>\n",
       "    <tr>\n",
       "      <th>3.5</th>\n",
       "      <td>0</td>\n",
       "      <td>1</td>\n",
       "      <td>0</td>\n",
       "    </tr>\n",
       "    <tr>\n",
       "      <th>...</th>\n",
       "      <th>...</th>\n",
       "      <td>...</td>\n",
       "      <td>...</td>\n",
       "      <td>...</td>\n",
       "    </tr>\n",
       "    <tr>\n",
       "      <th rowspan=\"5\" valign=\"top\">7.0</th>\n",
       "      <th>5.0</th>\n",
       "      <td>0</td>\n",
       "      <td>1</td>\n",
       "      <td>0</td>\n",
       "    </tr>\n",
       "    <tr>\n",
       "      <th>6.0</th>\n",
       "      <td>0</td>\n",
       "      <td>1</td>\n",
       "      <td>0</td>\n",
       "    </tr>\n",
       "    <tr>\n",
       "      <th>6.5</th>\n",
       "      <td>0</td>\n",
       "      <td>1</td>\n",
       "      <td>0</td>\n",
       "    </tr>\n",
       "    <tr>\n",
       "      <th>8.0</th>\n",
       "      <td>0</td>\n",
       "      <td>1</td>\n",
       "      <td>0</td>\n",
       "    </tr>\n",
       "    <tr>\n",
       "      <th>14.0</th>\n",
       "      <td>0</td>\n",
       "      <td>0</td>\n",
       "      <td>1</td>\n",
       "    </tr>\n",
       "    <tr>\n",
       "      <th rowspan=\"3\" valign=\"top\">8.0</th>\n",
       "      <th>2.0</th>\n",
       "      <td>0</td>\n",
       "      <td>1</td>\n",
       "      <td>0</td>\n",
       "    </tr>\n",
       "    <tr>\n",
       "      <th>5.0</th>\n",
       "      <td>0</td>\n",
       "      <td>1</td>\n",
       "      <td>0</td>\n",
       "    </tr>\n",
       "    <tr>\n",
       "      <th>6.0</th>\n",
       "      <td>0</td>\n",
       "      <td>1</td>\n",
       "      <td>0</td>\n",
       "    </tr>\n",
       "    <tr>\n",
       "      <th rowspan=\"2\" valign=\"top\">9.0</th>\n",
       "      <th>3.0</th>\n",
       "      <td>0</td>\n",
       "      <td>1</td>\n",
       "      <td>0</td>\n",
       "    </tr>\n",
       "    <tr>\n",
       "      <th>6.0</th>\n",
       "      <td>0</td>\n",
       "      <td>2</td>\n",
       "      <td>0</td>\n",
       "    </tr>\n",
       "  </tbody>\n",
       "</table>\n",
       "<p>58 rows × 3 columns</p>\n",
       "</div>"
      ],
      "text/plain": [
       "Century     18.0  19.0  20.0\n",
       "Beds Baths                  \n",
       "1.0  1.0       3    67    43\n",
       "     1.1       0     0     1\n",
       "     1.5       0     3     4\n",
       "     2.0       1     4    12\n",
       "2.0  1.0       2   123     2\n",
       "     1.5       1    16     2\n",
       "     2.0       1    66    69\n",
       "     2.5       0     4     7\n",
       "     3.0       0     6     2\n",
       "     3.5       0     1     0\n",
       "...          ...   ...   ...\n",
       "7.0  5.0       0     1     0\n",
       "     6.0       0     1     0\n",
       "     6.5       0     1     0\n",
       "     8.0       0     1     0\n",
       "     14.0      0     0     1\n",
       "8.0  2.0       0     1     0\n",
       "     5.0       0     1     0\n",
       "     6.0       0     1     0\n",
       "9.0  3.0       0     1     0\n",
       "     6.0       0     2     0\n",
       "\n",
       "[58 rows x 3 columns]"
      ]
     },
     "execution_count": 141,
     "metadata": {},
     "output_type": "execute_result"
    }
   ],
   "source": [
    "# TODO\n",
    "pd.crosstab([df.Beds, df.Baths], pd.Series(df.BuiltInYear// 100, name = 'Century'))"
   ]
  },
  {
   "cell_type": "code",
   "execution_count": null,
   "metadata": {
    "collapsed": true
   },
   "outputs": [],
   "source": []
  }
 ],
 "metadata": {
  "kernelspec": {
   "display_name": "Python 2",
   "language": "python",
   "name": "python2"
  },
  "language_info": {
   "codemirror_mode": {
    "name": "ipython",
    "version": 2
   },
   "file_extension": ".py",
   "mimetype": "text/x-python",
   "name": "python",
   "nbconvert_exporter": "python",
   "pygments_lexer": "ipython2",
   "version": "2.7.13"
  }
 },
 "nbformat": 4,
 "nbformat_minor": 1
}
